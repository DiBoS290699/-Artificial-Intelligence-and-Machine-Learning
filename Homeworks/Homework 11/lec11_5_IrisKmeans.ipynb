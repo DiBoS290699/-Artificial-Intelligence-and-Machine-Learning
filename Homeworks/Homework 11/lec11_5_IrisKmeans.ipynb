{
 "cells": [
  {
   "cell_type": "code",
   "execution_count": null,
   "id": "2a4339b1",
   "metadata": {},
   "outputs": [],
   "source": [
    "import numpy as np\n",
    "from sklearn.linear_model import LinearRegression\n",
    "import scipy as sp\n",
    "import matplotlib.pyplot as plt\n",
    "from scipy.optimize import fsolve\n",
    "import pandas as pd\n",
    "import math\n",
    "import operator\n",
    "import seaborn as sns\n",
    "import matplotlib.pyplot as plt\n",
    "from scipy.optimize import fsolve"
   ]
  },
  {
   "cell_type": "code",
   "execution_count": null,
   "id": "9299de4b",
   "metadata": {},
   "outputs": [],
   "source": [
    "iris_set = sns.load_dataset(\"iris\")"
   ]
  },
  {
   "cell_type": "code",
   "execution_count": null,
   "id": "396678f5",
   "metadata": {},
   "outputs": [],
   "source": [
    "fig, ax = plt.subplots(figsize=(10, 7))  \n",
    "ax = plt.axes()        \n",
    "legend = []\n",
    "plt.title('Линейная регрессия - Ирисы Фишера')\n",
    "x_lable='sepal_length'\n",
    "y_lable='petal_length'\n",
    "ax.set_xlabel(x_lable)             \n",
    "ax.set_ylabel(y_lable)  \n",
    "for c, rows in iris_set.groupby('species'):\n",
    "    plt.scatter(rows[x_lable], rows[y_lable], s = 100)\n",
    "    legend.append(\"species=%s\" % c)\n",
    "plt.legend(legend, loc=\"upper left\")\n",
    "plt.grid()\n",
    "plt.show()"
   ]
  },
  {
   "cell_type": "code",
   "execution_count": null,
   "id": "9e3b8db2",
   "metadata": {},
   "outputs": [],
   "source": [
    "df = iris_set.drop('species', axis=1)\n",
    "df"
   ]
  },
  {
   "cell_type": "code",
   "execution_count": null,
   "id": "f04bc1a9",
   "metadata": {},
   "outputs": [],
   "source": [
    "from sklearn import preprocessing\n",
    "from sklearn.preprocessing import StandardScaler\n",
    "dfs = StandardScaler().fit_transform(df)\n",
    "x_lable='sepal_length'\n",
    "y_lable='petal_length'\n",
    "axes = plt.axes()      \n",
    "axes.set_xlabel(\"X\")             \n",
    "axes.set_ylabel(\"Y\")             \n",
    "legend = []\n",
    "plt.title('Исходное пространство')\n",
    "plt.scatter(dfs[:,0], dfs[:,1], color='green', marker=\"o\")"
   ]
  },
  {
   "cell_type": "code",
   "execution_count": null,
   "id": "cef55243",
   "metadata": {},
   "outputs": [],
   "source": [
    "from sklearn.cluster import KMeans\n",
    "# строим модель кластеризации\n",
    "model = KMeans(n_clusters=3, init='k-means++', max_iter=100, n_init=1, verbose =0)\n",
    "model.fit(df)"
   ]
  },
  {
   "cell_type": "code",
   "execution_count": null,
   "id": "79727433",
   "metadata": {},
   "outputs": [],
   "source": [
    "Y=model.fit_predict(df)\n",
    "df['class'] = Y\n",
    "df"
   ]
  },
  {
   "cell_type": "code",
   "execution_count": null,
   "id": "1e83cf03",
   "metadata": {},
   "outputs": [],
   "source": [
    "fig, ax = plt.subplots(figsize=(10, 7))  \n",
    "legend = []\n",
    "x_lable='sepal_length'\n",
    "y_lable='petal_length'\n",
    "ax.set_xlabel(x_lable)             \n",
    "ax.set_ylabel(y_lable)  \n",
    "plt.title('Кластеризация')\n",
    "for c, rows in df.groupby('class'):\n",
    "    plt.scatter(rows[x_lable], rows[y_lable], s = 100)\n",
    "    legend.append(\"Cluster=%s\" % c)\n",
    "plt.legend(legend, loc=\"upper left\")\n",
    "plt.grid()\n",
    "plt.show()"
   ]
  },
  {
   "cell_type": "code",
   "execution_count": null,
   "id": "5563fefa",
   "metadata": {},
   "outputs": [],
   "source": [
    "!pip install pyclustertend"
   ]
  },
  {
   "cell_type": "code",
   "execution_count": null,
   "id": "c44afd67",
   "metadata": {},
   "outputs": [],
   "source": [
    "from pyclustertend import hopkins\n",
    "from pyclustertend import vat\n",
    "df = iris_set.drop('species', axis=1)\n",
    "hopkins(df,150)"
   ]
  },
  {
   "cell_type": "code",
   "execution_count": null,
   "id": "72f89bc9",
   "metadata": {},
   "outputs": [],
   "source": [
    "vat(df)"
   ]
  },
  {
   "cell_type": "code",
   "execution_count": null,
   "id": "f736adf8",
   "metadata": {},
   "outputs": [],
   "source": [
    "# Elbow Method for K means\n",
    "# Import ElbowVisualizer\n",
    "from yellowbrick.cluster import KElbowVisualizer\n",
    "model = KMeans()\n",
    "# k is range of number of clusters.\n",
    "visualizer = KElbowVisualizer(model, k=(2,30), timings= True)\n",
    "visualizer.fit(df)        # Fit data to visualizer\n",
    "visualizer.show()        # Finalize and render figure"
   ]
  }
 ],
 "metadata": {
  "kernelspec": {
   "display_name": "Python 3",
   "language": "python",
   "name": "python3"
  },
  "language_info": {
   "codemirror_mode": {
    "name": "ipython",
    "version": 3
   },
   "file_extension": ".py",
   "mimetype": "text/x-python",
   "name": "python",
   "nbconvert_exporter": "python",
   "pygments_lexer": "ipython3",
   "version": "3.8.8"
  }
 },
 "nbformat": 4,
 "nbformat_minor": 5
}

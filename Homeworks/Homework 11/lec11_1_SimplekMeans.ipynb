{
 "cells": [
  {
   "cell_type": "code",
   "execution_count": null,
   "id": "1ac2bfb8",
   "metadata": {},
   "outputs": [],
   "source": [
    "import numpy as np\n",
    "import scipy as sp\n",
    "import pandas as pd\n",
    "import matplotlib.pyplot as plt"
   ]
  },
  {
   "cell_type": "code",
   "execution_count": null,
   "id": "ef1df46e",
   "metadata": {},
   "outputs": [],
   "source": [
    "x=np.array([2.5, 0.5, 2.2, 1.9, 3.1, 2.3, 2.0, 1.0, 1.5, 1.1])\n",
    "y=np.array([2.4, 0.7, 2.9, 2.2, 3.0, 2.7, 1.6, 1.1, 1.6, 0.9])\n",
    "df = pd.DataFrame({'X':x, 'Y':y})\n",
    "df"
   ]
  },
  {
   "cell_type": "code",
   "execution_count": null,
   "id": "e6dd04be",
   "metadata": {},
   "outputs": [],
   "source": [
    "fig, ax = plt.subplots(figsize=(10, 7))\n",
    "ax.set_xlim([0, 3.5])         \n",
    "ax.set_ylim([0, 4])    \n",
    "ax = plt.axes()      \n",
    "ax.set_xlabel(\"X\")             \n",
    "ax.set_ylabel(\"Y\")             \n",
    "plt.title('Исходное пространство')\n",
    "plt.scatter(df[\"X\"], df[\"Y\"], color='green', marker=\"o\")\n",
    "plt.grid()\n",
    "plt.show()"
   ]
  },
  {
   "cell_type": "code",
   "execution_count": null,
   "id": "50534e59",
   "metadata": {},
   "outputs": [],
   "source": [
    "from sklearn.cluster import KMeans"
   ]
  },
  {
   "cell_type": "code",
   "execution_count": null,
   "id": "0655fd7c",
   "metadata": {},
   "outputs": [],
   "source": [
    "# строим модель кластеризации\n",
    "model = KMeans(n_clusters=3, init='k-means++', max_iter=10, n_init=1, verbose =0)\n",
    "model.fit(df)"
   ]
  },
  {
   "cell_type": "code",
   "execution_count": null,
   "id": "49ee8bd9",
   "metadata": {},
   "outputs": [],
   "source": [
    "Y=model.fit_predict(df)\n",
    "Y"
   ]
  },
  {
   "cell_type": "code",
   "execution_count": null,
   "id": "8237d0a9",
   "metadata": {},
   "outputs": [],
   "source": [
    "df['class'] = Y"
   ]
  },
  {
   "cell_type": "code",
   "execution_count": null,
   "id": "398a57e1",
   "metadata": {},
   "outputs": [],
   "source": [
    "centers = model.cluster_centers_"
   ]
  },
  {
   "cell_type": "code",
   "execution_count": null,
   "id": "8dd1dc19",
   "metadata": {},
   "outputs": [],
   "source": [
    "fig, ax = plt.subplots(figsize=(10, 7))\n",
    "ax.set_xlim([0, 3.5])         \n",
    "ax.set_ylim([0, 4])          \n",
    "legend = []\n",
    "x_lable='X'\n",
    "y_lable='Y'\n",
    "ax.set_xlabel(x_lable)             \n",
    "ax.set_ylabel(y_lable)  \n",
    "plt.title('Кластеризация')\n",
    "for c, rows in df.groupby('class'):\n",
    "    plt.scatter(rows[x_lable], rows[y_lable], s = 100)\n",
    "    legend.append(\"Cluster=%s\" % c)\n",
    "plt.scatter(centers[:, 0], centers[:, 1], c = 'black', s = 150, alpha = 0.75);\n",
    "legend.append(\"Cluster centers\")\n",
    "plt.legend(legend, loc=\"upper left\")\n",
    "plt.grid()\n",
    "plt.show()"
   ]
  },
  {
   "cell_type": "code",
   "execution_count": null,
   "id": "4d9210bb",
   "metadata": {},
   "outputs": [],
   "source": [
    "def make_cluster(dfc, num_k):\n",
    "    model = KMeans(n_clusters=num_k, init='k-means++', max_iter=20, n_init=1, verbose =0)\n",
    "    model.fit(dfc)\n",
    "    dfc['class'] = model.fit_predict(dfc)\n",
    "    return dfc    "
   ]
  },
  {
   "cell_type": "code",
   "execution_count": null,
   "id": "a94e8601",
   "metadata": {},
   "outputs": [],
   "source": [
    "def draw_cluster(dfc):\n",
    "    fig, ax = plt.subplots(figsize=(10, 7))\n",
    "    ax.set_xlim([0, 3.5])         \n",
    "    ax.set_ylim([0, 4])          \n",
    "    legend = []\n",
    "    x_lable='X'\n",
    "    y_lable='Y'\n",
    "    ax.set_xlabel(x_lable)             \n",
    "    ax.set_ylabel(y_lable)  \n",
    "    plt.title('Кластеризация')\n",
    "    for c, rows in dfc.groupby('class'):\n",
    "        plt.scatter(rows[x_lable], rows[y_lable], s = 100)\n",
    "        legend.append(\"Cluster=%s\" % c)\n",
    "    plt.legend(legend, loc=\"upper left\")\n",
    "    plt.grid()\n",
    "    plt.show()"
   ]
  },
  {
   "cell_type": "code",
   "execution_count": null,
   "id": "10fa4cf2",
   "metadata": {},
   "outputs": [],
   "source": [
    "draw_cluster(make_cluster(df,5))"
   ]
  },
  {
   "cell_type": "code",
   "execution_count": null,
   "id": "94e9fff6",
   "metadata": {},
   "outputs": [],
   "source": []
  }
 ],
 "metadata": {
  "kernelspec": {
   "display_name": "Python 3",
   "language": "python",
   "name": "python3"
  },
  "language_info": {
   "codemirror_mode": {
    "name": "ipython",
    "version": 3
   },
   "file_extension": ".py",
   "mimetype": "text/x-python",
   "name": "python",
   "nbconvert_exporter": "python",
   "pygments_lexer": "ipython3",
   "version": "3.8.8"
  }
 },
 "nbformat": 4,
 "nbformat_minor": 5
}

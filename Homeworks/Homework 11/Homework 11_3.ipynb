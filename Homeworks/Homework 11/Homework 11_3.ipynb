{
 "cells": [
  {
   "cell_type": "code",
   "execution_count": null,
   "id": "1ac2bfb8",
   "metadata": {},
   "outputs": [],
   "source": [
    "import numpy as np\n",
    "import scipy as sp\n",
    "import pandas as pd\n",
    "import matplotlib.pyplot as plt"
   ]
  },
  {
   "cell_type": "code",
   "execution_count": null,
   "id": "ef1df46e",
   "metadata": {},
   "outputs": [],
   "source": [
    "x=np.array([2.5, 0.5, 2.2, 1.9, 3.1, 2.3, 2.0, 1.0, 1.5, 1.1])\n",
    "y=np.array([2.4, 0.7, 2.9, 2.2, 3.0, 2.7, 1.6, 1.1, 1.6, 0.9])\n",
    "df = pd.DataFrame({'X':x, 'Y':y})\n",
    "df"
   ]
  },
  {
   "cell_type": "code",
   "execution_count": null,
   "id": "e6dd04be",
   "metadata": {},
   "outputs": [],
   "source": [
    "fig, ax = plt.subplots(figsize=(10, 7))\n",
    "ax.set_xlim([0, 3.5])         \n",
    "ax.set_ylim([0, 4])   \n",
    "ax.set_xlabel(\"X\")             \n",
    "ax.set_ylabel(\"Y\")             \n",
    "legend = []\n",
    "plt.title('Исходное пространство')\n",
    "plt.scatter(df[\"X\"], df['Y'], color='green', s=100, marker=\"o\")\n",
    "delta=0.05\n",
    "for index, row in df.iterrows():\n",
    "    text = ax.annotate(index, (row[\"X\"]+delta, row[\"Y\"]+delta))\n",
    "    text.set_fontsize(20)\n",
    "plt.show()"
   ]
  },
  {
   "cell_type": "code",
   "execution_count": null,
   "id": "618ee08d",
   "metadata": {},
   "outputs": [],
   "source": [
    "from sklearn.mixture import GaussianMixture as GMM\n",
    "model = GMM(n_components=3, covariance_type='full')\n",
    "model.fit(df)"
   ]
  },
  {
   "cell_type": "code",
   "execution_count": null,
   "id": "1ceacdd6",
   "metadata": {},
   "outputs": [],
   "source": [
    "Y=model.fit_predict(df)\n",
    "Y"
   ]
  },
  {
   "cell_type": "code",
   "execution_count": null,
   "id": "08f445bc",
   "metadata": {},
   "outputs": [],
   "source": [
    "df['class'] = Y"
   ]
  },
  {
   "cell_type": "code",
   "execution_count": null,
   "id": "d0500863",
   "metadata": {},
   "outputs": [],
   "source": [
    "fig, ax = plt.subplots(figsize=(10, 7))\n",
    "ax.set_xlim([0, 3.5])         \n",
    "ax.set_ylim([0, 4])          \n",
    "legend = []\n",
    "x_lable='X'\n",
    "y_lable='Y'\n",
    "ax.set_xlabel(x_lable)             \n",
    "ax.set_ylabel(y_lable)  \n",
    "plt.title('Кластеризация')\n",
    "for c, rows in df.groupby('class'):\n",
    "    plt.scatter(rows[x_lable], rows[y_lable], s = 100)\n",
    "    legend.append(\"Cluster=%s\" % c)\n",
    "plt.legend(legend, loc=\"upper left\")\n",
    "plt.grid()\n",
    "plt.show()"
   ]
  },
  {
   "cell_type": "code",
   "execution_count": null,
   "id": "bf490954",
   "metadata": {},
   "outputs": [],
   "source": [
    "import matplotlib as mpl\n",
    "from scipy import linalg\n",
    "\n",
    "df = pd.DataFrame({'X':x, 'Y':y})\n",
    "model = GMM(n_components=3, covariance_type='full')\n",
    "gmm = model.fit(df)\n",
    "means=gmm.means_\n",
    "covariances=gmm.covariances_\n",
    "fig, ax = plt.subplots(figsize=(10, 7))\n",
    "ax.set_xlim([0, 3.5])         \n",
    "ax.set_ylim([0, 4]) \n",
    "el_size =2\n",
    "\n",
    "for i, (mean, covar) in enumerate(zip(means, covariances)):\n",
    "        v, w = linalg.eigh(covar)\n",
    "        v = el_size * np.sqrt(el_size) * np.sqrt(v)\n",
    "        u = w[0] / linalg.norm(w[0])\n",
    "        # Plot an ellipse to show the Gaussian component\n",
    "        angle = np.arctan(u[1] / u[0])\n",
    "        angle = 180.0 * angle / np.pi  # convert to degrees\n",
    "        ell = mpl.patches.Ellipse(mean, v[0], v[1], 180.0 + angle)\n",
    "        ell.set_clip_box(ax.bbox)\n",
    "        ell.set_alpha(0.5)\n",
    "        ax.add_artist(ell)\n",
    "df['class'] = Y\n",
    "for c, rows in df.groupby('class'):\n",
    "    plt.scatter(rows[x_lable], rows[y_lable], s = 100)\n",
    "    legend.append(\"Cluster=%s\" % c)\n",
    "plt.legend(legend, loc=\"upper left\")\n",
    "plt.grid()\n",
    "plt.show()"
   ]
  }
 ],
 "metadata": {
  "kernelspec": {
   "display_name": "Python 3",
   "language": "python",
   "name": "python3"
  },
  "language_info": {
   "codemirror_mode": {
    "name": "ipython",
    "version": 3
   },
   "file_extension": ".py",
   "mimetype": "text/x-python",
   "name": "python",
   "nbconvert_exporter": "python",
   "pygments_lexer": "ipython3",
   "version": "3.8.8"
  }
 },
 "nbformat": 4,
 "nbformat_minor": 5
}

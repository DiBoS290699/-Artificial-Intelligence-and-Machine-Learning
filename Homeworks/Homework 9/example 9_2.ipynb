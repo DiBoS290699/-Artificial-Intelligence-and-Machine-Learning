{
 "cells": [
  {
   "cell_type": "code",
   "execution_count": 1,
   "id": "b190f11c",
   "metadata": {},
   "outputs": [],
   "source": [
    "import pandas as pd\n",
    "import numpy as np\n",
    "from sklearn.datasets import load_iris\n",
    "import seaborn as sns\n",
    "from matplotlib import pyplot as plt"
   ]
  },
  {
   "cell_type": "code",
   "execution_count": 2,
   "id": "9a32a95a",
   "metadata": {},
   "outputs": [
    {
     "data": {
      "text/html": [
       "<div>\n",
       "<style scoped>\n",
       "    .dataframe tbody tr th:only-of-type {\n",
       "        vertical-align: middle;\n",
       "    }\n",
       "\n",
       "    .dataframe tbody tr th {\n",
       "        vertical-align: top;\n",
       "    }\n",
       "\n",
       "    .dataframe thead th {\n",
       "        text-align: right;\n",
       "    }\n",
       "</style>\n",
       "<table border=\"1\" class=\"dataframe\">\n",
       "  <thead>\n",
       "    <tr style=\"text-align: right;\">\n",
       "      <th></th>\n",
       "      <th>sepal length (cm)</th>\n",
       "      <th>sepal width (cm)</th>\n",
       "      <th>petal length (cm)</th>\n",
       "      <th>petal width (cm)</th>\n",
       "      <th>target</th>\n",
       "    </tr>\n",
       "  </thead>\n",
       "  <tbody>\n",
       "    <tr>\n",
       "      <th>0</th>\n",
       "      <td>5.1</td>\n",
       "      <td>3.5</td>\n",
       "      <td>1.4</td>\n",
       "      <td>0.2</td>\n",
       "      <td>0</td>\n",
       "    </tr>\n",
       "    <tr>\n",
       "      <th>1</th>\n",
       "      <td>4.9</td>\n",
       "      <td>3.0</td>\n",
       "      <td>1.4</td>\n",
       "      <td>0.2</td>\n",
       "      <td>0</td>\n",
       "    </tr>\n",
       "    <tr>\n",
       "      <th>2</th>\n",
       "      <td>4.7</td>\n",
       "      <td>3.2</td>\n",
       "      <td>1.3</td>\n",
       "      <td>0.2</td>\n",
       "      <td>0</td>\n",
       "    </tr>\n",
       "    <tr>\n",
       "      <th>3</th>\n",
       "      <td>4.6</td>\n",
       "      <td>3.1</td>\n",
       "      <td>1.5</td>\n",
       "      <td>0.2</td>\n",
       "      <td>0</td>\n",
       "    </tr>\n",
       "    <tr>\n",
       "      <th>4</th>\n",
       "      <td>5.0</td>\n",
       "      <td>3.6</td>\n",
       "      <td>1.4</td>\n",
       "      <td>0.2</td>\n",
       "      <td>0</td>\n",
       "    </tr>\n",
       "  </tbody>\n",
       "</table>\n",
       "</div>"
      ],
      "text/plain": [
       "   sepal length (cm)  sepal width (cm)  petal length (cm)  petal width (cm)  \\\n",
       "0                5.1               3.5                1.4               0.2   \n",
       "1                4.9               3.0                1.4               0.2   \n",
       "2                4.7               3.2                1.3               0.2   \n",
       "3                4.6               3.1                1.5               0.2   \n",
       "4                5.0               3.6                1.4               0.2   \n",
       "\n",
       "   target  \n",
       "0       0  \n",
       "1       0  \n",
       "2       0  \n",
       "3       0  \n",
       "4       0  "
      ]
     },
     "execution_count": 2,
     "metadata": {},
     "output_type": "execute_result"
    }
   ],
   "source": [
    "iris = load_iris(as_frame=True)\n",
    "iris.frame.head()"
   ]
  },
  {
   "cell_type": "code",
   "execution_count": 3,
   "id": "36513cf8",
   "metadata": {},
   "outputs": [],
   "source": [
    "from sklearn.model_selection import train_test_split\n",
    "X = iris.data\n",
    "y = iris.target\n",
    "X_train, X_test, y_train, y_test = train_test_split(X,y,test_size=0.4,random_state=123)"
   ]
  },
  {
   "cell_type": "code",
   "execution_count": 4,
   "id": "d7ad48be",
   "metadata": {},
   "outputs": [],
   "source": [
    "from tensorflow.keras.utils import to_categorical\n",
    "# Create categorical labels\n",
    "train_labels = to_categorical(y_train)\n",
    "test_labels = to_categorical(y_test)"
   ]
  },
  {
   "cell_type": "code",
   "execution_count": 5,
   "id": "eaad40ac",
   "metadata": {},
   "outputs": [],
   "source": [
    "from tensorflow import keras\n",
    "# Import Keras modules\n",
    "from keras import models\n",
    "from keras import layers\n",
    "\n",
    "\n",
    "# Create the network\n",
    "model = models.Sequential()\n",
    "model.add(layers.Dense(32, activation='relu', input_shape=(4,)))\n",
    "model.add(layers.Dense(64, activation='relu'))\n",
    "model.add(layers.Dense(3, activation='softmax'))\n",
    "\n",
    "# Compile the network\n",
    "model.compile(optimizer='rmsprop', loss='categorical_crossentropy', metrics=['accuracy'])\n",
    "model.save_weights('model.h5')"
   ]
  },
  {
   "cell_type": "code",
   "execution_count": 6,
   "id": "8ec60f92",
   "metadata": {},
   "outputs": [
    {
     "name": "stdout",
     "output_type": "stream",
     "text": [
      "Epoch 1/50\n",
      "90/90 [==============================] - 0s 641us/step - loss: 0.8782 - accuracy: 0.7111\n",
      "Epoch 2/50\n",
      "90/90 [==============================] - 0s 686us/step - loss: 0.5743 - accuracy: 0.7889\n",
      "Epoch 3/50\n",
      "90/90 [==============================] - 0s 540us/step - loss: 0.4443 - accuracy: 0.8444\n",
      "Epoch 4/50\n",
      "90/90 [==============================] - 0s 540us/step - loss: 0.3634 - accuracy: 0.8889\n",
      "Epoch 5/50\n",
      "90/90 [==============================] - 0s 540us/step - loss: 0.2883 - accuracy: 0.9111\n",
      "Epoch 6/50\n",
      "90/90 [==============================] - 0s 574us/step - loss: 0.2506 - accuracy: 0.9000\n",
      "Epoch 7/50\n",
      "90/90 [==============================] - 0s 630us/step - loss: 0.2056 - accuracy: 0.9444\n",
      "Epoch 8/50\n",
      "90/90 [==============================] - 0s 641us/step - loss: 0.1990 - accuracy: 0.9333\n",
      "Epoch 9/50\n",
      "90/90 [==============================] - 0s 675us/step - loss: 0.1669 - accuracy: 0.9333\n",
      "Epoch 10/50\n",
      "90/90 [==============================] - 0s 709us/step - loss: 0.1357 - accuracy: 0.9444\n",
      "Epoch 11/50\n",
      "90/90 [==============================] - 0s 776us/step - loss: 0.1363 - accuracy: 0.9556\n",
      "Epoch 12/50\n",
      "90/90 [==============================] - 0s 652us/step - loss: 0.1363 - accuracy: 0.9444\n",
      "Epoch 13/50\n",
      "90/90 [==============================] - 0s 697us/step - loss: 0.1257 - accuracy: 0.9667\n",
      "Epoch 14/50\n",
      "90/90 [==============================] - 0s 821us/step - loss: 0.1203 - accuracy: 0.9444\n",
      "Epoch 15/50\n",
      "90/90 [==============================] - 0s 742us/step - loss: 0.1030 - accuracy: 0.9667\n",
      "Epoch 16/50\n",
      "90/90 [==============================] - 0s 664us/step - loss: 0.1161 - accuracy: 0.9444\n",
      "Epoch 17/50\n",
      "90/90 [==============================] - 0s 551us/step - loss: 0.0886 - accuracy: 0.9778\n",
      "Epoch 18/50\n",
      "90/90 [==============================] - 0s 551us/step - loss: 0.1323 - accuracy: 0.9667\n",
      "Epoch 19/50\n",
      "90/90 [==============================] - 0s 585us/step - loss: 0.1104 - accuracy: 0.9667\n",
      "Epoch 20/50\n",
      "90/90 [==============================] - 0s 529us/step - loss: 0.1029 - accuracy: 0.9667\n",
      "Epoch 21/50\n",
      "90/90 [==============================] - 0s 551us/step - loss: 0.1224 - accuracy: 0.9556\n",
      "Epoch 22/50\n",
      "90/90 [==============================] - 0s 596us/step - loss: 0.1051 - accuracy: 0.9778\n",
      "Epoch 23/50\n",
      "90/90 [==============================] - 0s 585us/step - loss: 0.1190 - accuracy: 0.9333\n",
      "Epoch 24/50\n",
      "90/90 [==============================] - 0s 652us/step - loss: 0.0907 - accuracy: 0.9444\n",
      "Epoch 25/50\n",
      "90/90 [==============================] - 0s 607us/step - loss: 0.1007 - accuracy: 0.9444\n",
      "Epoch 26/50\n",
      "90/90 [==============================] - 0s 664us/step - loss: 0.1091 - accuracy: 0.9778\n",
      "Epoch 27/50\n",
      "90/90 [==============================] - 0s 742us/step - loss: 0.1028 - accuracy: 0.9667\n",
      "Epoch 28/50\n",
      "90/90 [==============================] - 0s 641us/step - loss: 0.1063 - accuracy: 0.9667\n",
      "Epoch 29/50\n",
      "90/90 [==============================] - 0s 540us/step - loss: 0.1160 - accuracy: 0.9667\n",
      "Epoch 30/50\n",
      "90/90 [==============================] - 0s 664us/step - loss: 0.1014 - accuracy: 0.9556\n",
      "Epoch 31/50\n",
      "90/90 [==============================] - 0s 641us/step - loss: 0.1170 - accuracy: 0.9444\n",
      "Epoch 32/50\n",
      "90/90 [==============================] - 0s 630us/step - loss: 0.0960 - accuracy: 0.9444\n",
      "Epoch 33/50\n",
      "90/90 [==============================] - 0s 697us/step - loss: 0.1185 - accuracy: 0.9556\n",
      "Epoch 34/50\n",
      "90/90 [==============================] - 0s 596us/step - loss: 0.1040 - accuracy: 0.9556\n",
      "Epoch 35/50\n",
      "90/90 [==============================] - 0s 686us/step - loss: 0.1037 - accuracy: 0.9444\n",
      "Epoch 36/50\n",
      "90/90 [==============================] - 0s 652us/step - loss: 0.1100 - accuracy: 0.9556\n",
      "Epoch 37/50\n",
      "90/90 [==============================] - 0s 619us/step - loss: 0.0876 - accuracy: 0.9556\n",
      "Epoch 38/50\n",
      "90/90 [==============================] - 0s 765us/step - loss: 0.0924 - accuracy: 0.9778\n",
      "Epoch 39/50\n",
      "90/90 [==============================] - 0s 877us/step - loss: 0.1145 - accuracy: 0.9556\n",
      "Epoch 40/50\n",
      "90/90 [==============================] - 0s 900us/step - loss: 0.0988 - accuracy: 0.9556\n",
      "Epoch 41/50\n",
      "90/90 [==============================] - 0s 675us/step - loss: 0.1041 - accuracy: 0.9667\n",
      "Epoch 42/50\n",
      "90/90 [==============================] - 0s 675us/step - loss: 0.1127 - accuracy: 0.9556\n",
      "Epoch 43/50\n",
      "90/90 [==============================] - 0s 686us/step - loss: 0.1118 - accuracy: 0.9556\n",
      "Epoch 44/50\n",
      "90/90 [==============================] - 0s 596us/step - loss: 0.0923 - accuracy: 0.9778\n",
      "Epoch 45/50\n",
      "90/90 [==============================] - 0s 607us/step - loss: 0.1120 - accuracy: 0.9778\n",
      "Epoch 46/50\n",
      "90/90 [==============================] - 0s 574us/step - loss: 0.1110 - accuracy: 0.9667\n",
      "Epoch 47/50\n",
      "90/90 [==============================] - 0s 596us/step - loss: 0.1130 - accuracy: 0.9444\n",
      "Epoch 48/50\n",
      "90/90 [==============================] - 0s 574us/step - loss: 0.1015 - accuracy: 0.9556\n",
      "Epoch 49/50\n",
      "90/90 [==============================] - 0s 574us/step - loss: 0.1112 - accuracy: 0.9444\n",
      "Epoch 50/50\n",
      "90/90 [==============================] - 0s 540us/step - loss: 0.1042 - accuracy: 0.9667\n"
     ]
    }
   ],
   "source": [
    "model.load_weights('model.h5')\n",
    "model_history = model.fit(X_train, train_labels, epochs=50, batch_size=1, verbose=1)"
   ]
  },
  {
   "cell_type": "code",
   "execution_count": 7,
   "id": "05ec37d4",
   "metadata": {},
   "outputs": [
    {
     "data": {
      "text/plain": [
       "Text(0, 0.5, 'Loss')"
      ]
     },
     "execution_count": 7,
     "metadata": {},
     "output_type": "execute_result"
    },
    {
     "data": {
      "image/png": "[encoded data removed]",
      "text/plain": [
       "<Figure size 432x288 with 2 Axes>"
      ]
     },
     "metadata": {
      "needs_background": "light"
     },
     "output_type": "display_data"
    }
   ],
   "source": [
    "plt.figure()\n",
    "plt.subplot(211)\n",
    "plt.title('Neural network test', fontsize=17)\n",
    "plt.plot(model_history.history['accuracy'])\n",
    "plt.xlabel('Epoch', fontsize=12, color='blue')\n",
    "plt.ylabel('Accuracy', fontsize=12, color='blue')\n",
    "plt.subplot(212)\n",
    "plt.plot(model_history.history['loss'])\n",
    "plt.ylabel('Loss', fontsize=12, color='blue')"
   ]
  },
  {
   "cell_type": "code",
   "execution_count": 8,
   "id": "05b2065e",
   "metadata": {},
   "outputs": [
    {
     "name": "stdout",
     "output_type": "stream",
     "text": [
      "2/2 [==============================] - 0s 2ms/step - loss: 0.1139 - accuracy: 0.9167\n",
      "Test Accuracy:  0.9166666865348816 \n",
      "Test Loss:  0.11385766416788101\n"
     ]
    }
   ],
   "source": [
    "# Get the accuracy of test data set\n",
    "test_loss, test_acc = model.evaluate(X_test, test_labels)\n",
    "# Print the test accuracy\n",
    "print('Test Accuracy: ', test_acc, '\\nTest Loss: ', test_loss)"
   ]
  }
 ],
 "metadata": {
  "kernelspec": {
   "display_name": "Python 3",
   "language": "python",
   "name": "python3"
  },
  "language_info": {
   "codemirror_mode": {
    "name": "ipython",
    "version": 3
   },
   "file_extension": ".py",
   "mimetype": "text/x-python",
   "name": "python",
   "nbconvert_exporter": "python",
   "pygments_lexer": "ipython3",
   "version": "3.8.8"
  }
 },
 "nbformat": 4,
 "nbformat_minor": 5
}

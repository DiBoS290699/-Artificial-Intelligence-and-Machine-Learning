{
  "cells": [
    {
      "cell_type": "code",
      "execution_count": 1,
      "id": "b190f11c",
      "metadata": {
        "id": "b190f11c"
      },
      "outputs": [],
      "source": [
        "import pandas as pd\n",
        "import numpy as np\n",
        "from sklearn.datasets import load_wine\n",
        "import seaborn as sns\n",
        "from matplotlib import pyplot as plt\n",
        "from tensorflow.keras.utils import to_categorical\n",
        "from sklearn.model_selection import train_test_split\n",
        "from sklearn.preprocessing import StandardScaler"
      ]
    },
    {
      "cell_type": "code",
      "execution_count": 3,
      "id": "36513cf8",
      "metadata": {
        "id": "36513cf8"
      },
      "outputs": [],
      "source": [
        "X, y = load_wine(return_X_y=True)\n",
        "scaler = StandardScaler()\n",
        "X = scaler.fit_transform(X)\n",
        "# Create categorical labels\n",
        "y = to_categorical(y)\n",
        "\n",
        "X_train, X_test, y_train, y_test = train_test_split(X, y, test_size=0.4,random_state=123)"
      ]
    },
    {
      "cell_type": "code",
      "execution_count": 19,
      "id": "eaad40ac",
      "metadata": {
        "id": "eaad40ac"
      },
      "outputs": [],
      "source": [
        "from tensorflow import keras\n",
        "# Import Keras modules\n",
        "from keras import models\n",
        "from keras import layers\n",
        "\n",
        "\n",
        "# Create the network\n",
        "model = models.Sequential()\n",
        "model.add(layers.Dense(3, activation='softmax', input_shape=(13,)))\n",
        "\n",
        "opt = keras.optimizers.Adam(learning_rate=0.01)\n",
        "model.compile(opt, loss='categorical_crossentropy', metrics=['accuracy'])"
      ]
    },
    {
      "cell_type": "code",
      "execution_count": 20,
      "id": "ftEB8_68Yg8z",
      "metadata": {
        "colab": {
          "base_uri": "https://localhost:8080/"
        },
        "id": "ftEB8_68Yg8z",
        "outputId": "08edf5ac-e116-4b67-82f4-0576436b8b85"
      },
      "outputs": [
        {
          "name": "stdout",
          "output_type": "stream",
          "text": [
            "3/3 [==============================] - 0s 6ms/step - loss: 0.8466 - accuracy: 0.6415\n",
            "3/3 [==============================] - 0s 4ms/step - loss: 0.7410 - accuracy: 0.7358\n",
            "3/3 [==============================] - 0s 4ms/step - loss: 0.6619 - accuracy: 0.7547\n",
            "3/3 [==============================] - 0s 4ms/step - loss: 0.5919 - accuracy: 0.7642\n",
            "3/3 [==============================] - 0s 5ms/step - loss: 0.5337 - accuracy: 0.8113\n",
            "3/3 [==============================] - 0s 7ms/step - loss: 0.4846 - accuracy: 0.8396\n",
            "3/3 [==============================] - 0s 5ms/step - loss: 0.4416 - accuracy: 0.8396\n",
            "3/3 [==============================] - 0s 4ms/step - loss: 0.4058 - accuracy: 0.8585\n",
            "3/3 [==============================] - 0s 4ms/step - loss: 0.3742 - accuracy: 0.8679\n",
            "3/3 [==============================] - 0s 4ms/step - loss: 0.3458 - accuracy: 0.9057\n",
            "3/3 [==============================] - 0s 4ms/step - loss: 0.3228 - accuracy: 0.9057\n",
            "3/3 [==============================] - 0s 3ms/step - loss: 0.3024 - accuracy: 0.9151\n",
            "3/3 [==============================] - 0s 4ms/step - loss: 0.2834 - accuracy: 0.9151\n",
            "3/3 [==============================] - 0s 4ms/step - loss: 0.2683 - accuracy: 0.9151\n",
            "3/3 [==============================] - 0s 6ms/step - loss: 0.2541 - accuracy: 0.9151\n",
            "3/3 [==============================] - 0s 4ms/step - loss: 0.2399 - accuracy: 0.9245\n",
            "3/3 [==============================] - 0s 4ms/step - loss: 0.2283 - accuracy: 0.9340\n",
            "3/3 [==============================] - 0s 4ms/step - loss: 0.2183 - accuracy: 0.9340\n",
            "3/3 [==============================] - 0s 4ms/step - loss: 0.2087 - accuracy: 0.9340\n",
            "3/3 [==============================] - 0s 4ms/step - loss: 0.1989 - accuracy: 0.9528\n",
            "3/3 [==============================] - 0s 4ms/step - loss: 0.1911 - accuracy: 0.9528\n",
            "3/3 [==============================] - 0s 3ms/step - loss: 0.1830 - accuracy: 0.9528\n",
            "3/3 [==============================] - 0s 4ms/step - loss: 0.1755 - accuracy: 0.9528\n",
            "3/3 [==============================] - 0s 4ms/step - loss: 0.1680 - accuracy: 0.9528\n",
            "3/3 [==============================] - 0s 4ms/step - loss: 0.1609 - accuracy: 0.9623\n",
            "3/3 [==============================] - 0s 5ms/step - loss: 0.1543 - accuracy: 0.9717\n",
            "3/3 [==============================] - 0s 5ms/step - loss: 0.1490 - accuracy: 0.9717\n",
            "3/3 [==============================] - 0s 4ms/step - loss: 0.1434 - accuracy: 0.9717\n",
            "3/3 [==============================] - 0s 5ms/step - loss: 0.1389 - accuracy: 0.9623\n",
            "3/3 [==============================] - 0s 4ms/step - loss: 0.1341 - accuracy: 0.9623\n",
            "3/3 [==============================] - 0s 3ms/step - loss: 0.1298 - accuracy: 0.9623\n",
            "3/3 [==============================] - 0s 3ms/step - loss: 0.1261 - accuracy: 0.9717\n",
            "3/3 [==============================] - 0s 4ms/step - loss: 0.1223 - accuracy: 0.9717\n",
            "3/3 [==============================] - 0s 4ms/step - loss: 0.1188 - accuracy: 0.9717\n",
            "3/3 [==============================] - 0s 5ms/step - loss: 0.1154 - accuracy: 0.9811\n",
            "3/3 [==============================] - 0s 4ms/step - loss: 0.1123 - accuracy: 0.9811\n",
            "3/3 [==============================] - 0s 4ms/step - loss: 0.1087 - accuracy: 0.9811\n",
            "3/3 [==============================] - 0s 7ms/step - loss: 0.1060 - accuracy: 0.9811\n",
            "3/3 [==============================] - 0s 4ms/step - loss: 0.1033 - accuracy: 0.9811\n",
            "3/3 [==============================] - 0s 4ms/step - loss: 0.1005 - accuracy: 0.9811\n",
            "3/3 [==============================] - 0s 4ms/step - loss: 0.0981 - accuracy: 0.9811\n",
            "3/3 [==============================] - 0s 5ms/step - loss: 0.0961 - accuracy: 0.9811\n",
            "3/3 [==============================] - 0s 4ms/step - loss: 0.0941 - accuracy: 0.9811\n",
            "3/3 [==============================] - 0s 5ms/step - loss: 0.0921 - accuracy: 0.9811\n",
            "3/3 [==============================] - 0s 3ms/step - loss: 0.0902 - accuracy: 0.9811\n",
            "3/3 [==============================] - 0s 4ms/step - loss: 0.0884 - accuracy: 0.9811\n",
            "3/3 [==============================] - 0s 3ms/step - loss: 0.0866 - accuracy: 0.9811\n",
            "3/3 [==============================] - 0s 4ms/step - loss: 0.0852 - accuracy: 0.9811\n",
            "3/3 [==============================] - 0s 4ms/step - loss: 0.0833 - accuracy: 0.9811\n",
            "3/3 [==============================] - 0s 3ms/step - loss: 0.0812 - accuracy: 0.9811\n",
            "3/3 [==============================] - 0s 5ms/step - loss: 0.0795 - accuracy: 0.9811\n",
            "3/3 [==============================] - 0s 4ms/step - loss: 0.0776 - accuracy: 0.9811\n",
            "3/3 [==============================] - 0s 4ms/step - loss: 0.0762 - accuracy: 0.9811\n",
            "3/3 [==============================] - 0s 4ms/step - loss: 0.0750 - accuracy: 0.9811\n",
            "3/3 [==============================] - 0s 5ms/step - loss: 0.0738 - accuracy: 0.9811\n",
            "3/3 [==============================] - 0s 4ms/step - loss: 0.0725 - accuracy: 0.9811\n",
            "3/3 [==============================] - 0s 5ms/step - loss: 0.0714 - accuracy: 0.9906\n",
            "3/3 [==============================] - 0s 6ms/step - loss: 0.0701 - accuracy: 0.9906\n",
            "3/3 [==============================] - 0s 4ms/step - loss: 0.0690 - accuracy: 0.9906\n",
            "3/3 [==============================] - 0s 8ms/step - loss: 0.0680 - accuracy: 0.9906\n",
            "3/3 [==============================] - 0s 4ms/step - loss: 0.0670 - accuracy: 0.9906\n",
            "3/3 [==============================] - 0s 5ms/step - loss: 0.0661 - accuracy: 1.0000\n"
          ]
        }
      ],
      "source": [
        "acc = 0\n",
        "epochs_count = 0\n",
        "while acc != 1.0:\n",
        "  info = model.fit(X_train, y_train, epochs=1, batch_size=50, verbose=1)\n",
        "  curr_acc = info.history['accuracy'][0]\n",
        "  if curr_acc > acc:\n",
        "    acc = curr_acc\n",
        "  epochs_count += 1"
      ]
    },
    {
      "cell_type": "code",
      "execution_count": 21,
      "id": "fHYrBlYAY2qo",
      "metadata": {
        "colab": {
          "base_uri": "https://localhost:8080/"
        },
        "id": "fHYrBlYAY2qo",
        "outputId": "72bbf8b3-92fc-4dd7-ede9-b44a4e4c97e4"
      },
      "outputs": [
        {
          "data": {
            "text/plain": [
              "62"
            ]
          },
          "execution_count": 21,
          "metadata": {},
          "output_type": "execute_result"
        }
      ],
      "source": [
        "epochs_count"
      ]
    },
    {
      "cell_type": "code",
      "execution_count": 22,
      "id": "edde6233",
      "metadata": {
        "colab": {
          "base_uri": "https://localhost:8080/"
        },
        "id": "edde6233",
        "outputId": "386ed9d3-b168-4a01-f87a-b226039b9e48"
      },
      "outputs": [
        {
          "name": "stdout",
          "output_type": "stream",
          "text": [
            "Model: \"sequential_3\"\n",
            "_________________________________________________________________\n",
            " Layer (type)                Output Shape              Param #   \n",
            "=================================================================\n",
            " dense_5 (Dense)             (None, 3)                 42        \n",
            "                                                                 \n",
            "=================================================================\n",
            "Total params: 42\n",
            "Trainable params: 42\n",
            "Non-trainable params: 0\n",
            "_________________________________________________________________\n"
          ]
        }
      ],
      "source": [
        "model.summary()"
      ]
    },
    {
      "cell_type": "code",
      "execution_count": 23,
      "id": "05b2065e",
      "metadata": {
        "colab": {
          "base_uri": "https://localhost:8080/"
        },
        "id": "05b2065e",
        "outputId": "7b8e558a-fc84-4895-a179-b16463584296"
      },
      "outputs": [
        {
          "name": "stdout",
          "output_type": "stream",
          "text": [
            "3/3 [==============================] - 0s 4ms/step - loss: 0.0755 - accuracy: 0.9861\n",
            "Test Accuracy:  0.9861111044883728 \n",
            "Test Loss:  0.0755482167005539\n"
          ]
        }
      ],
      "source": [
        "# Get the accuracy of test data set\n",
        "test_loss, test_acc = model.evaluate(X_test, y_test)\n",
        "# Print the test accuracy\n",
        "print('Test Accuracy: ', test_acc, '\\nTest Loss: ', test_loss)"
      ]
    }
  ],
  "metadata": {
    "colab": {
      "name": "Homework_9.2.ipynb",
      "provenance": []
    },
    "kernelspec": {
      "display_name": "Python 3",
      "language": "python",
      "name": "python3"
    },
    "language_info": {
      "codemirror_mode": {
        "name": "ipython",
        "version": 3
      },
      "file_extension": ".py",
      "mimetype": "text/x-python",
      "name": "python",
      "nbconvert_exporter": "python",
      "pygments_lexer": "ipython3",
      "version": "3.9.5"
    }
  },
  "nbformat": 4,
  "nbformat_minor": 5
}

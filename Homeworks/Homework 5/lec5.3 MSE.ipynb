{
 "cells": [
  {
   "cell_type": "code",
   "execution_count": 1,
   "id": "2a4339b1",
   "metadata": {},
   "outputs": [],
   "source": [
    "import numpy as np\n",
    "from sklearn.linear_model import LinearRegression\n",
    "import scipy as sp\n",
    "import matplotlib.pyplot as plt\n",
    "from scipy.optimize import fsolve\n",
    "from sklearn.metrics import confusion_matrix\n",
    "from sklearn.metrics import accuracy_score\n",
    "from sklearn.utils import shuffle"
   ]
  },
  {
   "cell_type": "code",
   "execution_count": 2,
   "id": "64cb5e01",
   "metadata": {},
   "outputs": [],
   "source": [
    "x1=np.array([5, 15, 25, 35, 45, 55])\n",
    "y1=np.array([5, 20, 14, 32, 22, 38])"
   ]
  },
  {
   "cell_type": "code",
   "execution_count": 3,
   "id": "0be7f277",
   "metadata": {},
   "outputs": [],
   "source": [
    "x=x1.reshape((-1, 1)) # этот массив должен быть двумерным: иметь одну колонку и необходимое количество рядов\n",
    "y=y1"
   ]
  },
  {
   "cell_type": "code",
   "execution_count": 4,
   "id": "3cca38a4",
   "metadata": {},
   "outputs": [
    {
     "name": "stdout",
     "output_type": "stream",
     "text": [
      "[[ 5]\n",
      " [15]\n",
      " [25]\n",
      " [35]\n",
      " [45]\n",
      " [55]]\n",
      "[ 5 20 14 32 22 38]\n"
     ]
    }
   ],
   "source": [
    "print(x)\n",
    "print(y)"
   ]
  },
  {
   "cell_type": "code",
   "execution_count": 5,
   "id": "afd47752",
   "metadata": {},
   "outputs": [
    {
     "data": {
      "text/plain": [
       "<matplotlib.collections.PathCollection at 0x4d34e5f580>"
      ]
     },
     "execution_count": 5,
     "metadata": {},
     "output_type": "execute_result"
    },
    {
     "data": {
      "image/png": "[encoded data removed]",
      "text/plain": [
       "<Figure size 432x288 with 1 Axes>"
      ]
     },
     "metadata": {
      "needs_background": "light"
     },
     "output_type": "display_data"
    }
   ],
   "source": [
    "axes = plt.axes()\n",
    "axes.set_xlim([0, 60])         \n",
    "axes.set_ylim([0, 40])         \n",
    "axes.set_xlabel(\"X\")             \n",
    "axes.set_ylabel(\"Y\")             \n",
    "legend = []\n",
    "plt.title('Исходные данные')\n",
    "plt.scatter(x1, y1, color='green', marker=\"o\")\n"
   ]
  },
  {
   "cell_type": "code",
   "execution_count": 6,
   "id": "e84502f3",
   "metadata": {},
   "outputs": [
    {
     "name": "stdout",
     "output_type": "stream",
     "text": [
      "coefficient of determination: 0.715875613747954\n",
      "intercept: 5.633333333333329\n",
      "slope: [0.54]\n"
     ]
    }
   ],
   "source": [
    "model = LinearRegression()\n",
    "model.fit(x, y) # вычисляются оптимальные значение весов, используя существующие вход и выход в качестве аргументов\n",
    "print('coefficient of determination:', model.score(x, y))\n",
    "print('intercept:', model.intercept_) # b₀\n",
    "print('slope:', model.coef_) # b₁"
   ]
  },
  {
   "cell_type": "code",
   "execution_count": 7,
   "id": "54999b4c",
   "metadata": {
    "scrolled": true
   },
   "outputs": [
    {
     "name": "stdout",
     "output_type": "stream",
     "text": [
      "actual response:\n",
      "[ 5 20 14 32 22 38]\n",
      "predicted response:\n",
      "[ 8.33333333 13.73333333 19.13333333 24.53333333 29.93333333 35.33333333]\n",
      "predicted response2:\n",
      "[[ 8.33333333]\n",
      " [13.73333333]\n",
      " [19.13333333]\n",
      " [24.53333333]\n",
      " [29.93333333]\n",
      " [35.33333333]]\n"
     ]
    }
   ],
   "source": [
    "y_pred = model.predict(x)\n",
    "print('actual response:', y, sep='\\n') \n",
    "print('predicted response:', y_pred, sep='\\n')\n",
    "\n",
    "z_pred = model.intercept_ + model.coef_ * x\n",
    "\n",
    "print('predicted response2:', z_pred, sep='\\n')"
   ]
  },
  {
   "cell_type": "code",
   "execution_count": 8,
   "id": "348b875b",
   "metadata": {},
   "outputs": [
    {
     "data": {
      "text/plain": [
       "<matplotlib.legend.Legend at 0x4d34fcda90>"
      ]
     },
     "execution_count": 8,
     "metadata": {},
     "output_type": "execute_result"
    },
    {
     "data": {
      "image/png": "[encoded data removed]",
      "text/plain": [
       "<Figure size 432x288 with 1 Axes>"
      ]
     },
     "metadata": {
      "needs_background": "light"
     },
     "output_type": "display_data"
    }
   ],
   "source": [
    "axes = plt.axes()\n",
    "axes.set_xlim([0, 60])         \n",
    "axes.set_ylim([0, 40])         \n",
    "axes.set_xlabel(\"X\")             \n",
    "axes.set_ylabel(\"Y\")             \n",
    "legend = []\n",
    "plt.title('Линейная регрессия')\n",
    "plt.scatter(x1, y1, color='green', marker=\"o\")\n",
    "plt.scatter(x1, y_pred, color='red', marker=\"s\")\n",
    "plt.plot(x1, y_pred, color='black', linewidth=1)\n",
    "plt.vlines(x1, y1, y_pred, color='black', linewidth=2, linestyles='dashed')\n",
    "legend.append(\"регрессия\")\n",
    "legend.append(\"исходные данные\")\n",
    "legend.append(\"предсказанные данные\")\n",
    "legend.append(\"остатки\")\n",
    "plt.legend(legend, loc=\"upper left\")"
   ]
  },
  {
   "cell_type": "code",
   "execution_count": 9,
   "id": "9b24622f",
   "metadata": {},
   "outputs": [
    {
     "name": "stdout",
     "output_type": "stream",
     "text": [
      " \n",
      "0.54 x + 5.633\n",
      "           2\n",
      "-0.001964 x + 0.6579 x + 4.438\n",
      "           3          2\n",
      "0.0007315 x - 0.0678 x + 2.263 x - 4.23\n",
      "           4            3           2\n",
      "1.875e-05 x - 0.001519 x + 0.02073 x + 1.002 x + 0.4562\n"
     ]
    },
    {
     "data": {
      "image/png": "[encoded data removed]",
      "text/plain": [
       "<Figure size 432x288 with 1 Axes>"
      ]
     },
     "metadata": {
      "needs_background": "light"
     },
     "output_type": "display_data"
    }
   ],
   "source": [
    "# получаем параметры модели для полинома степени d\n",
    "axes = plt.axes()\n",
    "axes.set_xlim([0, 65])         \n",
    "axes.set_ylim([0, 55])         \n",
    "axes.set_xlabel(\"X\")             \n",
    "axes.set_ylabel(\"Y\")\n",
    "fx = np.linspace(x1[0], x1[-1] + 5, 1000)\n",
    "legend = []\n",
    "for d in range(1, 5):\n",
    "    fp = np.polyfit(x1, y1, d)\n",
    "    # функция-полином, если её напечатать, то увидите математическое выражение\n",
    "    f = sp.poly1d(fp)\n",
    "    print(f)\n",
    "    # рисуем график модельной функции\n",
    "    plt.scatter(x1, y1)\n",
    "    plt.plot(fx, f(fx), linewidth=2)\n",
    "    legend.append(\"d=%i\" % f.order)\n",
    "    plt.legend(legend, loc=\"upper left\")\n",
    "plt.grid()\n",
    "plt.show()"
   ]
  }
 ],
 "metadata": {
  "kernelspec": {
   "display_name": "Python 3",
   "language": "python",
   "name": "python3"
  },
  "language_info": {
   "codemirror_mode": {
    "name": "ipython",
    "version": 3
   },
   "file_extension": ".py",
   "mimetype": "text/x-python",
   "name": "python",
   "nbconvert_exporter": "python",
   "pygments_lexer": "ipython3",
   "version": "3.8.8"
  }
 },
 "nbformat": 4,
 "nbformat_minor": 5
}

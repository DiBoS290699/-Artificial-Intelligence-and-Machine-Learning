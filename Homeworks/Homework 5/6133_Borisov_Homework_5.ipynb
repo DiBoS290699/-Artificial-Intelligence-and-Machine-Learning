{
  "nbformat": 4,
  "nbformat_minor": 5,
  "metadata": {
    "kernelspec": {
      "display_name": "Python 3",
      "language": "python",
      "name": "python3"
    },
    "language_info": {
      "codemirror_mode": {
        "name": "ipython",
        "version": 3
      },
      "file_extension": ".py",
      "mimetype": "text/x-python",
      "name": "python",
      "nbconvert_exporter": "python",
      "pygments_lexer": "ipython3",
      "version": "3.9.5"
    },
    "colab": {
      "name": "Homework№5.ipynb",
      "provenance": []
    }
  },
  "cells": [
    {
      "cell_type": "markdown",
      "metadata": {
        "id": "GLvyE9y2mMyx"
      },
      "source": [
        "Подключение библиотек"
      ],
      "id": "GLvyE9y2mMyx"
    },
    {
      "cell_type": "code",
      "metadata": {
        "id": "ad0595d8"
      },
      "source": [
        "from sklearn import datasets\n",
        "from sklearn.model_selection import train_test_split\n",
        "from sklearn.metrics import classification_report\n",
        "import numpy as np\n",
        "import matplotlib.pyplot as plt"
      ],
      "id": "ad0595d8",
      "execution_count": 1,
      "outputs": []
    },
    {
      "cell_type": "markdown",
      "metadata": {
        "id": "WGZOgvuYmPoF"
      },
      "source": [
        "Класс динейного дискриминантного анализа"
      ],
      "id": "WGZOgvuYmPoF"
    },
    {
      "cell_type": "code",
      "metadata": {
        "id": "4eec5227"
      },
      "source": [
        "\"\"\"Linear Discriminant Analysis, LDA\"\"\"\n",
        "class LDA:\n",
        "    def __init__(self, x_train, y_train):\n",
        "\n",
        "        self.x = np.array(x_train)\n",
        "        self.y = np.array(y_train)\n",
        "        self.classes = np.unique(y_train)\n",
        "        self.means, self.total_mean = self._means()\n",
        "        self.Sb = self._Sb()\n",
        "        self.Sw = self._Sw()\n",
        "        self.transform_matrix = np.dot(np.linalg.inv(self.Sw), \n",
        "                                       (self.means[0] - self.means[1]))\n",
        "        self.t_means = []\n",
        "        self.t_stds = []\n",
        "        for cls in self.classes:\n",
        "            data = self.x[self.y == cls, :]\n",
        "            proj = np.dot(data, self.transform_matrix)\n",
        "            self.t_means.append(proj.mean())\n",
        "            self.t_stds.append(proj.std())\n",
        "    \n",
        "    def predict(self, x_test):\n",
        "        proj = np.dot(x_test, self.transform_matrix)\n",
        "        return np.argmax(self._gaussian(proj), axis=0)\n",
        "    \n",
        "    def make_projection(self, x_test):\n",
        "        return np.dot(x_test, self.transform_matrix)\n",
        "    \n",
        "    def _means(self):\n",
        "        means = []\n",
        "        for cls in self.classes:\n",
        "            data = self.x[self.y == cls, :]\n",
        "            means.append(data.mean(axis=0))\n",
        "        return means, np.mean(means, axis=0)\n",
        "\n",
        "    def _Sb(self):\n",
        "        \"\"\"\n",
        "        Вычисление ковариации между классами\n",
        "        \"\"\"\n",
        "        number_features = self.x.shape[1]\n",
        "        Sb = np.zeros((number_features, number_features))\n",
        "        for cls in range(len(self.classes)):\n",
        "            Sb += self.means[cls] - self.total_mean\n",
        "        return Sb\n",
        "    \n",
        "    def _Sw(self):\n",
        "        \"\"\"\n",
        "        Вычисление ковариации внутри классов\n",
        "        \"\"\"\n",
        "        number_features = self.x.shape[1]\n",
        "        Sw = np.zeros((number_features, number_features))\n",
        "        for cls in self.classes:\n",
        "            data = self.x[self.y == cls, :]\n",
        "            Sw += np.cov(data, rowvar=False) \n",
        "        return Sw\n",
        "    \n",
        "    def _gaussian(self, x):\n",
        "        \"\"\"\n",
        "        Вычисление распределения Гаусса\n",
        "        \"\"\"\n",
        "        result = []\n",
        "        for i in range(len(self.means)):\n",
        "            mean = self.t_means[i]\n",
        "            std = self.t_stds[i]\n",
        "            result.append(\n",
        "                1 / (std * np.sqrt(2 * np.pi)) * np.exp((-(x - mean) ** 2) / (2 * std ** 2))\n",
        "            )\n",
        "        return result"
      ],
      "id": "4eec5227",
      "execution_count": 2,
      "outputs": []
    },
    {
      "cell_type": "markdown",
      "metadata": {
        "id": "k_FUIkIYmXLn"
      },
      "source": [
        "Получение датасета"
      ],
      "id": "k_FUIkIYmXLn"
    },
    {
      "cell_type": "code",
      "metadata": {
        "id": "6bcfd768"
      },
      "source": [
        "\"\"\"\n",
        "Выбранный датасет имеет 150 экземпляров ириса,\n",
        "по 50 экземпляров из трёх видов: \n",
        "Ирис щетинистый (Iris setosa) - с по 1 по 50 экземпляры, \n",
        "Ирис виргинский (Iris virginica) - с по 51 по 100 экземпляры, \n",
        "Ирис разноцветный (Iris versicolor) - с по 101 по 150 экземпляры.\n",
        "\n",
        "Характеристики каждого цветка:\n",
        "1. Длина наружной доли околоцветника (англ. sepal length);\n",
        "2. Ширина наружной доли околоцветника (англ. sepal width);\n",
        "3. Длина внутренней доли околоцветника (англ. petal length);\n",
        "4. Ширина внутренней доли околоцветника (англ. petal width).\n",
        "\"\"\"\n",
        "iris_ds = datasets.load_iris()\n",
        "# Сохранение данных только о Iris virginica и Iris versicolor\n",
        "data = iris_ds.data[50:, :] \n",
        "labels = iris_ds.target[50:]"
      ],
      "id": "6bcfd768",
      "execution_count": 3,
      "outputs": []
    },
    {
      "cell_type": "markdown",
      "metadata": {
        "id": "8wN7Q9GqmaBt"
      },
      "source": [
        "Размерности данных"
      ],
      "id": "8wN7Q9GqmaBt"
    },
    {
      "cell_type": "code",
      "metadata": {
        "colab": {
          "base_uri": "https://localhost:8080/"
        },
        "id": "cf0b363d",
        "outputId": "497ab319-8ede-463c-fce5-ee9a16e58736"
      },
      "source": [
        "data.shape, labels.shape"
      ],
      "id": "cf0b363d",
      "execution_count": 4,
      "outputs": [
        {
          "output_type": "execute_result",
          "data": {
            "text/plain": [
              "((100, 4), (100,))"
            ]
          },
          "metadata": {},
          "execution_count": 4
        }
      ]
    },
    {
      "cell_type": "markdown",
      "metadata": {
        "id": "rgF2532ImdUf"
      },
      "source": [
        "Псевдослучайное распределение данных на тренировочные и тестовые"
      ],
      "id": "rgF2532ImdUf"
    },
    {
      "cell_type": "code",
      "metadata": {
        "id": "3785f5b8"
      },
      "source": [
        "x_train, x_test, y_train, y_test = train_test_split(data, labels, test_size=0.3)"
      ],
      "id": "3785f5b8",
      "execution_count": 5,
      "outputs": []
    },
    {
      "cell_type": "markdown",
      "metadata": {
        "id": "fggoRLZjmonY"
      },
      "source": [
        "Создание экземпляра класса"
      ],
      "id": "fggoRLZjmonY"
    },
    {
      "cell_type": "code",
      "metadata": {
        "id": "23a23b77"
      },
      "source": [
        "lda = LDA(x_train, y_train)"
      ],
      "id": "23a23b77",
      "execution_count": 6,
      "outputs": []
    },
    {
      "cell_type": "markdown",
      "metadata": {
        "id": "Rjzn9Pdumt-K"
      },
      "source": [
        "Прогнозирование"
      ],
      "id": "Rjzn9Pdumt-K"
    },
    {
      "cell_type": "code",
      "metadata": {
        "id": "6ddae07d"
      },
      "source": [
        "preds = lda.predict(x_test)"
      ],
      "id": "6ddae07d",
      "execution_count": 7,
      "outputs": []
    },
    {
      "cell_type": "markdown",
      "metadata": {
        "id": "NF3MIStkmxpo"
      },
      "source": [
        "Составление отчёта"
      ],
      "id": "NF3MIStkmxpo"
    },
    {
      "cell_type": "code",
      "metadata": {
        "colab": {
          "base_uri": "https://localhost:8080/"
        },
        "id": "a4c1ae1b",
        "outputId": "d804b996-eed3-4d9d-b19d-58d7486effef"
      },
      "source": [
        "report = classification_report(preds, y_test - 1)\n",
        "print(report)"
      ],
      "id": "a4c1ae1b",
      "execution_count": 8,
      "outputs": [
        {
          "output_type": "stream",
          "name": "stdout",
          "text": [
            "              precision    recall  f1-score   support\n",
            "\n",
            "           0       0.82      0.90      0.86        10\n",
            "           1       0.95      0.90      0.92        20\n",
            "\n",
            "    accuracy                           0.90        30\n",
            "   macro avg       0.88      0.90      0.89        30\n",
            "weighted avg       0.90      0.90      0.90        30\n",
            "\n"
          ]
        }
      ]
    },
    {
      "cell_type": "code",
      "metadata": {
        "colab": {
          "base_uri": "https://localhost:8080/",
          "height": 283
        },
        "id": "16034e4a",
        "outputId": "01c6afb3-1778-446e-8956-9744ea61cd59"
      },
      "source": [
        "plt.scatter(lda.make_projection(x_test), y_test)"
      ],
      "id": "16034e4a",
      "execution_count": 9,
      "outputs": [
        {
          "output_type": "execute_result",
          "data": {
            "text/plain": [
              "<matplotlib.collections.PathCollection at 0x7f75e91e67d0>"
            ]
          },
          "metadata": {},
          "execution_count": 9
        },
        {
          "output_type": "display_data",
          "data": {
            "image/png": "[encoded data removed]",
            "text/plain": [
              "<Figure size 432x288 with 1 Axes>"
            ]
          },
          "metadata": {
            "needs_background": "light"
          }
        }
      ]
    }
  ]
}
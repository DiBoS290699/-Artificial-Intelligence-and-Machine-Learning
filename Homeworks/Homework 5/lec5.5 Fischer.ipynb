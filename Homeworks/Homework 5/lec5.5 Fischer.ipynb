{
 "cells": [
  {
   "cell_type": "code",
   "execution_count": 1,
   "id": "98ab6711",
   "metadata": {},
   "outputs": [],
   "source": [
    "import numpy as np\n",
    "import matplotlib.pyplot as plt"
   ]
  },
  {
   "cell_type": "code",
   "execution_count": 2,
   "id": "3d6152bd",
   "metadata": {},
   "outputs": [],
   "source": [
    "# Create data\n",
    "rectangles = np.array([[1,1.5,1.7,1.45,1.1,1.6,1.8],[1.8,1.55,1.45,1.6,1.65,1.7,1.75]])\n",
    "triangles = np.array([[0.1,0.5,0.25,0.4,0.3,0.6,0.35,0.15,0.4,0.5,0.48],[1.1,1.5,1.3,1.2,1.15,1.0,1.4,1.2,1.3,1.5,1.0]])\n",
    "circles = np.array([[1.5,1.55,1.52,1.4,1.3,1.6,1.35,1.45,1.4,1.5,1.48,1.51,1.52,1.49,1.41,1.39,1.6,1.35,1.55,1.47,1.57,1.48,\n",
    "                    1.55,1.555,1.525,1.45,1.35,1.65,1.355,1.455,1.45,1.55,1.485,1.515,1.525,1.495,1.415,1.395,1.65,1.355,1.555,1.475,1.575,1.485]\n",
    "                    ,[1.3,1.35,1.33,1.32,1.315,1.30,1.34,1.32,1.33,1.35,1.30,1.31,1.35,1.33,1.32,1.315,1.38,1.34,1.28,1.23,1.25,1.29,\n",
    "                     1.35,1.355,1.335,1.325,1.3155,1.305,1.345,1.325,1.335,1.355,1.305,1.315,1.355,1.335,1.325,1.3155,1.385,1.345,1.285,1.235,1.255,1.295]])"
   ]
  },
  {
   "cell_type": "code",
   "execution_count": 3,
   "id": "cbf415ff",
   "metadata": {},
   "outputs": [],
   "source": [
    "# Calculate the mean vectors per class\n",
    "mean_rectangles = np.mean(rectangles,axis=1).reshape(2,1) # Creates a 2x1 vector consisting of the means of the dimensions \n",
    "mean_triangles = np.mean(triangles,axis=1).reshape(2,1)\n",
    "mean_circles = np.mean(circles,axis=1).reshape(2,1)"
   ]
  },
  {
   "cell_type": "code",
   "execution_count": 4,
   "id": "50988546",
   "metadata": {},
   "outputs": [
    {
     "name": "stdout",
     "output_type": "stream",
     "text": [
      "[[ 0.535      -0.08      ]\n",
      " [-0.08        0.08714286]]\n",
      "[[0.24145455 0.02913636]\n",
      " [0.02913636 0.31409091]]\n",
      "[[ 0.3000108  -0.00121682]\n",
      " [-0.00121682  0.04883923]]\n"
     ]
    }
   ],
   "source": [
    "# Calculate the scatter matrices for the SW (Scatter within) and sum the elements up\n",
    "scatter_rectangles = np.dot((rectangles-mean_rectangles),(rectangles-mean_rectangles).T)\n",
    "print(scatter_rectangles)\n",
    "scatter_triangles = np.dot((triangles-mean_triangles),(triangles-mean_triangles).T)\n",
    "print(scatter_triangles)\n",
    "scatter_circles = np.dot((circles-mean_circles),(circles-mean_circles).T)\n",
    "print(scatter_circles)"
   ]
  },
  {
   "cell_type": "code",
   "execution_count": 33,
   "id": "9ffb45e0",
   "metadata": {},
   "outputs": [
    {
     "name": "stdout",
     "output_type": "stream",
     "text": [
      "[[1.05578011]\n",
      " [1.01524323]]\n"
     ]
    }
   ],
   "source": [
    "SW = scatter_triangles+scatter_circles+scatter_rectangles\n",
    "SW1=np.linalg.inv(SW)\n",
    "w=np.dot(SW1,mean_rectangles-mean_triangles)\n",
    "print(w)"
   ]
  },
  {
   "cell_type": "code",
   "execution_count": 47,
   "id": "62efc73e",
   "metadata": {},
   "outputs": [
    {
     "name": "stdout",
     "output_type": "stream",
     "text": [
      "<class 'numpy.ndarray'>\n"
     ]
    }
   ],
   "source": [
    "print (type(w))"
   ]
  },
  {
   "cell_type": "code",
   "execution_count": 62,
   "id": "75f5f074",
   "metadata": {},
   "outputs": [
    {
     "name": "stdout",
     "output_type": "stream",
     "text": [
      "[[1.        ]\n",
      " [1.01524323]]\n"
     ]
    },
    {
     "data": {
      "image/png": "[encoded data removed]",
      "text/plain": [
       "<Figure size 432x288 with 1 Axes>"
      ]
     },
     "metadata": {
      "needs_background": "light"
     },
     "output_type": "display_data"
    }
   ],
   "source": [
    "#Plot the data\n",
    "\n",
    "fig, ax = plt.subplots()\n",
    "\n",
    "ax.scatter(rectangles[0],rectangles[1],marker='s',c='grey',edgecolor='black')\n",
    "ax.scatter(triangles[0],triangles[1],marker='^',c='yellow',edgecolor='black')\n",
    "ax.scatter(circles[0],circles[1],marker='o',c='blue',edgecolor='black')\n",
    "\n",
    "ax.scatter(mean_rectangles[0],mean_rectangles[1],marker='x',c='red',edgecolor='black')\n",
    "ax.scatter(mean_triangles[0],mean_triangles[1],marker='x',c='red',edgecolor='black')\n",
    "ax.scatter(mean_circles[0],mean_circles[1],marker='x',c='red',edgecolor='black')\n",
    "\n",
    "ax.plot((mean_rectangles[0],mean_triangles[0]), (mean_rectangles[1],mean_triangles[1] ))\n",
    "\n",
    "mean=(mean_rectangles+mean_triangles)/2\n",
    "mean1=mean+w/2\n",
    "mean2=mean-w/2\n",
    "ax.scatter(mean[0],mean[1],marker='x',c='red',edgecolor='black')\n",
    "ax.plot((mean1[0],mean2[0]), (mean1[1],mean2[1] ), c='red' )\n",
    "\n",
    "c=-w[0]/w[1]\n",
    "u=np.array([1,c[0]]).reshape(2,1)\n",
    "mean1=mean+u/2\n",
    "mean2=mean-u/2\n",
    "ax.plot((mean1[0],mean2[0]), (mean1[1],mean2[1] ), c='black' )\n",
    "\n",
    "print(w)\n",
    "plt.show()\n"
   ]
  }
 ],
 "metadata": {
  "kernelspec": {
   "display_name": "Python 3",
   "language": "python",
   "name": "python3"
  },
  "language_info": {
   "codemirror_mode": {
    "name": "ipython",
    "version": 3
   },
   "file_extension": ".py",
   "mimetype": "text/x-python",
   "name": "python",
   "nbconvert_exporter": "python",
   "pygments_lexer": "ipython3",
   "version": "3.8.8"
  }
 },
 "nbformat": 4,
 "nbformat_minor": 5
}

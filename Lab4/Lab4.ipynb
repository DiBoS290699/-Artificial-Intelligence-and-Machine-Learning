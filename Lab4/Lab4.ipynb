{
  "nbformat": 4,
  "nbformat_minor": 0,
  "metadata": {
    "colab": {
      "name": "Lab4.ipynb",
      "provenance": []
    },
    "kernelspec": {
      "name": "python3",
      "display_name": "Python 3"
    },
    "language_info": {
      "name": "python"
    }
  },
  "cells": [
    {
      "cell_type": "markdown",
      "source": [
        "# Лабораторная работа №4\n",
        "\n",
        "Борисов Дмитрий Сергеевич (Вар. 5)\n",
        "# Задание\n",
        "\n",
        "Найти наиболее информативные признаки для данных вашего варианта. Произвести оценки зависимости точности модели и числа выбранных признаков. Используйте полученные ранее знания, такие как разбиение наборов данных и кросс-валидация.\n",
        "\n",
        "\n",
        "## Результаты, которые необходимо получить в итоге:\n",
        "\n",
        "1. DataFrame с признаками и их информативностью, отсортированный по убыванию.\n",
        "2. Графики, показывающие результат оценки зависимости точности модели и числа выбранных признаков.\n",
        "3. Таблица содержащая f1-score, precision, и recall полученные для лучшей модели, которую вы смогли обучить.\n",
        "4. Визуализируйте предсказания вашей лучшей модели."
      ],
      "metadata": {
        "id": "uRnUZT8kyGCT"
      }
    },
    {
      "cell_type": "code",
      "execution_count": 1,
      "metadata": {
        "id": "pJIPzyE9yEdt"
      },
      "outputs": [],
      "source": [
        "import pandas as pd\n",
        "import numpy as np\n",
        "import seaborn as sns\n",
        "import scipy as sp\n",
        "import matplotlib.pyplot as plt\n",
        "from sklearn.metrics import confusion_matrix"
      ]
    },
    {
      "cell_type": "code",
      "source": [
        "data = np.load('Lab_4_data/5.npy')\n",
        "mask = np.load('Lab_4_data/5_mask.npy')"
      ],
      "metadata": {
        "id": "3CMUn3ohzWa0"
      },
      "execution_count": null,
      "outputs": []
    },
    {
      "cell_type": "code",
      "source": [
        ""
      ],
      "metadata": {
        "id": "kU_JQnUvzsNh"
      },
      "execution_count": null,
      "outputs": []
    }
  ]
}
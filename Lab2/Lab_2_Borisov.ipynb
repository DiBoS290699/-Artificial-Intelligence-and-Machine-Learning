{
  "nbformat": 4,
  "nbformat_minor": 0,
  "metadata": {
    "kernelspec": {
      "display_name": "Python 3",
      "language": "python",
      "name": "python3"
    },
    "language_info": {
      "codemirror_mode": {
        "name": "ipython",
        "version": 3
      },
      "file_extension": ".py",
      "mimetype": "text/x-python",
      "name": "python",
      "nbconvert_exporter": "python",
      "pygments_lexer": "ipython3",
      "version": "3.8.2"
    },
    "colab": {
      "name": "Lab_2.ipynb",
      "provenance": [],
      "collapsed_sections": []
    }
  },
  "cells": [
    {
      "cell_type": "markdown",
      "metadata": {
        "id": "7LX1P6IbpkD0"
      },
      "source": [
        "# Task"
      ]
    },
    {
      "cell_type": "markdown",
      "metadata": {
        "id": "8upQroKdpkD0"
      },
      "source": [
        "Develop your own Bayes classifier implementation and compare it to the SciKit-Learn ones: Gaussian Naive Bayes, Multinomial Naive Bayes, Complement Naive Bayes, Bernoulli Naive Bayes. Use the data obtained in the first lab to train the classifiers.\n",
        "\n",
        "Measure performance of the classifiers - time spent on classifying a single data sample (data point) - and compare performance of your classifier to those of SciKit-Learn.\n",
        "Measure accuracy of the classifiers and compare accuracy of your classifier to those of SciKit-Learn. \n",
        "\n",
        "\n",
        "Upon the completion of the assignement the following must be done (points 1-4 are required to be completed):\n",
        "1. make confusion matrices for every classifier;\n",
        "2. determine which classifier is the most accurate;\n",
        "3. draw histograms of performance for every classifier on a single graph;\n",
        "4. determine which classifier's performance is the most stable. Use variance of classification time (time spent for classifying a single data sample) as a criteria;\n",
        "5. *additional score assignment*: find a better criteria of performance stability and use it analogously to point 4. Explain why the criteria is better than the variance.\n",
        "\n",
        "All of the corresponding information (points 1-4 and 5 if completed) must be displayed as a result of the program execution.\n",
        "\n",
        "Sci-Kit Learn Naive Bayes documentation: https://scikit-learn.org/stable/modules/naive_bayes.html\n",
        "\n",
        "---\n",
        "\n",
        "Разработайте собственную реализацию байесовского классификатора и сравните её с классификаторами из SciKit-Learn: Gaussian Naive Bayes, Multinomial Naive Bayes, Complement Naive Bayes, Bernoulli Naive Bayes. При обучении классификаторов использовать набор данных, полученный при выполнении лабораторной работы 1.\n",
        "\n",
        "Замерьте прозводительность классификаторов - время, затраченное на классификацию одного экземпляра данных (одна точка) - и сравните производительность разработанного вами классификатора с классификаторами SciKit-Learn.\n",
        "Замерьте точность классификаторов и сравните точность разработанного вами классификатора с классификаторами SciKit-Learn.\n",
        "\n",
        "По завершению выполнения работы необходимо (первые 4 пункта обязательны для выполнения):\n",
        "1. построить матрицы ошибок для каждого классификатора;\n",
        "2. определить классификатор, имеющий наибольшую точность;\n",
        "3. построить гистограммы производительности для всех классификаторов, разместив их на одном графике;\n",
        "4. определить классификатор с наиболее стабильной производительностью. В качестве критерия стабильности использовать дисперсию времени, затраченного на классификацию одного экземпляра данных (одна точка);\n",
        "5. *задание на дополнительные баллы:* найти более достоверный критерий оценки стабильности производительности и использовать его по аналогии с пунктом 4. Обосновать, почему он является более достоверным.\n",
        "\n",
        "Соответствующие пункты задания (1-4 и 5, если выполнен) должны быть выведены в результате работы программы.\n",
        "\n",
        "Документация байесовских классификаторов SciKit-Learn: https://scikit-learn.org/stable/modules/naive_bayes.html\n"
      ]
    },
    {
      "cell_type": "code",
      "metadata": {
        "id": "ICBYUZv_pkDu"
      },
      "source": [
        "import numpy as np\n",
        "from time import time\n",
        "from collections import defaultdict\n",
        "import pandas as pd\n",
        "from sklearn.naive_bayes import GaussianNB, MultinomialNB, ComplementNB, BernoulliNB \n",
        "from sklearn.metrics import confusion_matrix\n",
        "from sklearn.model_selection import train_test_split\n",
        "import matplotlib.pyplot as plt\n",
        "import seaborn as sns"
      ],
      "execution_count": 1,
      "outputs": []
    },
    {
      "cell_type": "markdown",
      "metadata": {
        "id": "NKmQXQgMpkDv"
      },
      "source": [
        "## Получение датасета из первой лабораторной (гауссовы облака)"
      ]
    },
    {
      "cell_type": "code",
      "metadata": {
        "colab": {
          "base_uri": "https://localhost:8080/",
          "height": 421
        },
        "id": "weAGSfJPuvOh",
        "outputId": "e8d34e0e-a906-48fc-c61a-6bed6da3fbde"
      },
      "source": [
        "df = pd.read_excel('Dataset.xlsx')\n",
        "df"
      ],
      "execution_count": 2,
      "outputs": [
        {
          "output_type": "execute_result",
          "data": {
            "text/html": [
              "<div>\n",
              "<style scoped>\n",
              "    .dataframe tbody tr th:only-of-type {\n",
              "        vertical-align: middle;\n",
              "    }\n",
              "\n",
              "    .dataframe tbody tr th {\n",
              "        vertical-align: top;\n",
              "    }\n",
              "\n",
              "    .dataframe thead th {\n",
              "        text-align: right;\n",
              "    }\n",
              "</style>\n",
              "<table border=\"1\" class=\"dataframe\">\n",
              "  <thead>\n",
              "    <tr style=\"text-align: right;\">\n",
              "      <th></th>\n",
              "      <th>x</th>\n",
              "      <th>y</th>\n",
              "      <th>label</th>\n",
              "    </tr>\n",
              "  </thead>\n",
              "  <tbody>\n",
              "    <tr>\n",
              "      <th>0</th>\n",
              "      <td>1.715092</td>\n",
              "      <td>1.698583</td>\n",
              "      <td>2</td>\n",
              "    </tr>\n",
              "    <tr>\n",
              "      <th>1</th>\n",
              "      <td>-0.560312</td>\n",
              "      <td>0.864461</td>\n",
              "      <td>0</td>\n",
              "    </tr>\n",
              "    <tr>\n",
              "      <th>2</th>\n",
              "      <td>-0.691317</td>\n",
              "      <td>1.670343</td>\n",
              "      <td>0</td>\n",
              "    </tr>\n",
              "    <tr>\n",
              "      <th>3</th>\n",
              "      <td>-0.015075</td>\n",
              "      <td>-0.392310</td>\n",
              "      <td>0</td>\n",
              "    </tr>\n",
              "    <tr>\n",
              "      <th>4</th>\n",
              "      <td>0.694022</td>\n",
              "      <td>2.900271</td>\n",
              "      <td>2</td>\n",
              "    </tr>\n",
              "    <tr>\n",
              "      <th>...</th>\n",
              "      <td>...</td>\n",
              "      <td>...</td>\n",
              "      <td>...</td>\n",
              "    </tr>\n",
              "    <tr>\n",
              "      <th>2111</th>\n",
              "      <td>0.455029</td>\n",
              "      <td>-0.379949</td>\n",
              "      <td>0</td>\n",
              "    </tr>\n",
              "    <tr>\n",
              "      <th>2112</th>\n",
              "      <td>1.068816</td>\n",
              "      <td>1.484386</td>\n",
              "      <td>0</td>\n",
              "    </tr>\n",
              "    <tr>\n",
              "      <th>2113</th>\n",
              "      <td>0.869847</td>\n",
              "      <td>1.140778</td>\n",
              "      <td>1</td>\n",
              "    </tr>\n",
              "    <tr>\n",
              "      <th>2114</th>\n",
              "      <td>1.344564</td>\n",
              "      <td>1.453539</td>\n",
              "      <td>1</td>\n",
              "    </tr>\n",
              "    <tr>\n",
              "      <th>2115</th>\n",
              "      <td>2.125623</td>\n",
              "      <td>0.435670</td>\n",
              "      <td>1</td>\n",
              "    </tr>\n",
              "  </tbody>\n",
              "</table>\n",
              "<p>2116 rows × 3 columns</p>\n",
              "</div>"
            ],
            "text/plain": [
              "             x         y  label\n",
              "0     1.715092  1.698583      2\n",
              "1    -0.560312  0.864461      0\n",
              "2    -0.691317  1.670343      0\n",
              "3    -0.015075 -0.392310      0\n",
              "4     0.694022  2.900271      2\n",
              "...        ...       ...    ...\n",
              "2111  0.455029 -0.379949      0\n",
              "2112  1.068816  1.484386      0\n",
              "2113  0.869847  1.140778      1\n",
              "2114  1.344564  1.453539      1\n",
              "2115  2.125623  0.435670      1\n",
              "\n",
              "[2116 rows x 3 columns]"
            ]
          },
          "metadata": {},
          "execution_count": 2
        }
      ]
    },
    {
      "cell_type": "markdown",
      "metadata": {
        "id": "9K0NMEbDnlRQ"
      },
      "source": [
        "Сдвиг облаков для получения положительных координат (необходимо для некоторых классификаторов)"
      ]
    },
    {
      "cell_type": "code",
      "metadata": {
        "id": "AZsefE0DpkDw",
        "colab": {
          "base_uri": "https://localhost:8080/",
          "height": 298
        },
        "outputId": "1bd5ea99-23c7-40b9-9bc6-40fb9c53ad30"
      },
      "source": [
        "data, annotations = df[['x','y']], df['label']\n",
        "data -= np.min(data)\n",
        "data.describe()"
      ],
      "execution_count": 3,
      "outputs": [
        {
          "output_type": "execute_result",
          "data": {
            "text/html": [
              "<div>\n",
              "<style scoped>\n",
              "    .dataframe tbody tr th:only-of-type {\n",
              "        vertical-align: middle;\n",
              "    }\n",
              "\n",
              "    .dataframe tbody tr th {\n",
              "        vertical-align: top;\n",
              "    }\n",
              "\n",
              "    .dataframe thead th {\n",
              "        text-align: right;\n",
              "    }\n",
              "</style>\n",
              "<table border=\"1\" class=\"dataframe\">\n",
              "  <thead>\n",
              "    <tr style=\"text-align: right;\">\n",
              "      <th></th>\n",
              "      <th>x</th>\n",
              "      <th>y</th>\n",
              "    </tr>\n",
              "  </thead>\n",
              "  <tbody>\n",
              "    <tr>\n",
              "      <th>count</th>\n",
              "      <td>2116.000000</td>\n",
              "      <td>2116.000000</td>\n",
              "    </tr>\n",
              "    <tr>\n",
              "      <th>mean</th>\n",
              "      <td>4.407814</td>\n",
              "      <td>4.053940</td>\n",
              "    </tr>\n",
              "    <tr>\n",
              "      <th>std</th>\n",
              "      <td>1.481061</td>\n",
              "      <td>1.480175</td>\n",
              "    </tr>\n",
              "    <tr>\n",
              "      <th>min</th>\n",
              "      <td>0.000000</td>\n",
              "      <td>0.000000</td>\n",
              "    </tr>\n",
              "    <tr>\n",
              "      <th>25%</th>\n",
              "      <td>3.361073</td>\n",
              "      <td>3.007592</td>\n",
              "    </tr>\n",
              "    <tr>\n",
              "      <th>50%</th>\n",
              "      <td>4.362034</td>\n",
              "      <td>4.061607</td>\n",
              "    </tr>\n",
              "    <tr>\n",
              "      <th>75%</th>\n",
              "      <td>5.454149</td>\n",
              "      <td>5.148639</td>\n",
              "    </tr>\n",
              "    <tr>\n",
              "      <th>max</th>\n",
              "      <td>8.831553</td>\n",
              "      <td>8.577673</td>\n",
              "    </tr>\n",
              "  </tbody>\n",
              "</table>\n",
              "</div>"
            ],
            "text/plain": [
              "                 x            y\n",
              "count  2116.000000  2116.000000\n",
              "mean      4.407814     4.053940\n",
              "std       1.481061     1.480175\n",
              "min       0.000000     0.000000\n",
              "25%       3.361073     3.007592\n",
              "50%       4.362034     4.061607\n",
              "75%       5.454149     5.148639\n",
              "max       8.831553     8.577673"
            ]
          },
          "metadata": {},
          "execution_count": 3
        }
      ]
    },
    {
      "cell_type": "code",
      "metadata": {
        "colab": {
          "base_uri": "https://localhost:8080/",
          "height": 282
        },
        "id": "G-xr7Q6HpkDx",
        "outputId": "2f3e7e1a-4f74-4590-9c4b-e8cc5f377b4f"
      },
      "source": [
        "plt.scatter(data['x'], data['y'], c=annotations, marker=\".\")"
      ],
      "execution_count": 4,
      "outputs": [
        {
          "output_type": "execute_result",
          "data": {
            "text/plain": [
              "<matplotlib.collections.PathCollection at 0x7f8bafc82950>"
            ]
          },
          "metadata": {},
          "execution_count": 4
        },
        {
          "output_type": "display_data",
          "data": {
            "image/png": "[encoded data removed]",
            "text/plain": [
              "<Figure size 432x288 with 1 Axes>"
            ]
          },
          "metadata": {
            "needs_background": "light"
          }
        }
      ]
    },
    {
      "cell_type": "markdown",
      "metadata": {
        "id": "77YMoaB6pkDx"
      },
      "source": [
        "Before training a model the dataset must be split into validation set and training set. Validation set is used for testing the model during training and tuning hyperparameters, training set is used for trainng the model. Usually validation set is 25% of all the data (75% is training set, 25% is validation set).\n",
        "\n",
        "---\n",
        "\n",
        "Перед обучением модели необходимо разделить весь датасет на валидационную выборку и обучающую выборку. Валидационная выборка используется для тестирования модели по ходу обучения и подбора гиперпараметров, обучающая - для обучения. Обычно валидационная выборка составляет 25% от всех данных."
      ]
    },
    {
      "cell_type": "code",
      "metadata": {
        "id": "FS7IlXiDpkDy"
      },
      "source": [
        "Xtrain, Xtest, Ytrain, Ytest = train_test_split(data, annotations, test_size=0.25, random_state=42)"
      ],
      "execution_count": 5,
      "outputs": []
    },
    {
      "cell_type": "code",
      "metadata": {
        "colab": {
          "base_uri": "https://localhost:8080/"
        },
        "id": "Z0eZTUpcpkDy",
        "outputId": "160c5f78-852b-4b8a-c05f-55a8b74b5aca"
      },
      "source": [
        "Xtrain.shape, Xtest.shape"
      ],
      "execution_count": 6,
      "outputs": [
        {
          "output_type": "execute_result",
          "data": {
            "text/plain": [
              "((1587, 2), (529, 2))"
            ]
          },
          "metadata": {},
          "execution_count": 6
        }
      ]
    },
    {
      "cell_type": "markdown",
      "metadata": {
        "id": "4c7gXBgjpkDz"
      },
      "source": [
        "## Create Gaussian Naive Bayes Classifier\n",
        "\n",
        "---\n",
        "\n",
        "## Создание нового наивного Гауссова классификатора Байеса"
      ]
    },
    {
      "cell_type": "code",
      "metadata": {
        "id": "AhvBbQ_aV896"
      },
      "source": [
        "class NaiveBayesClassifier():\n",
        "    def separate_by_classes(self, X, y):\n",
        "        ''' This function separates our dataset in subdatasets by classes '''\n",
        "        self.classes = np.unique(y)\n",
        "        classes_index = {}\n",
        "        subdatasets = {}\n",
        "        cls, counts = np.unique(y, return_counts=True)\n",
        "        self.class_freq = dict(zip(cls, counts))\n",
        "        for class_type in self.classes:\n",
        "            classes_index[class_type] = np.argwhere(y==class_type)\n",
        "            subdatasets[class_type] = X[classes_index[class_type], :]\n",
        "            self.class_freq[class_type] = self.class_freq[class_type]/sum(list(self.class_freq.values()))\n",
        "        return subdatasets\n",
        "\n",
        "    def fit(self, X, y):\n",
        "        ''' The fitting function '''\n",
        "        separated_X = self.separate_by_classes(X, y)\n",
        "        self.means = {}\n",
        "        self.std = {}\n",
        "        for class_type in self.classes:\n",
        "            # Here we calculate the mean and the standart deviation from datasets\n",
        "            self.means[class_type] = np.mean(separated_X[class_type], axis=0)[0]\n",
        "            self.std[class_type] = np.std(separated_X[class_type], axis=0)[0]\n",
        "\n",
        "    def calculate_probability(self, x, mean, stdev):\n",
        "        ''' This function calculates the class probability using gaussian distribution '''\n",
        "        exponent = np.exp(-((x - mean) ** 2 / (2 * stdev ** 2)))\n",
        "        return (1 / (np.sqrt(2 * np.pi) * stdev)) * exponent\n",
        "\n",
        "    def predict_proba(self, X):\n",
        "        ''' This function predicts the probability for every class '''\n",
        "        self.class_prob = {cls:np.log(self.class_freq[cls]) for cls in self.classes}\n",
        "        for cls in self.classes:\n",
        "            for i in range(len(self.means[cls])):\n",
        "                self.class_prob[cls]+=np.log(self.calculate_probability(X[i], self.means[cls][i], self.std[cls][i]))\n",
        "        self.class_prob = {cls: np.e**self.class_prob[cls] for cls in self.class_prob}\n",
        "        return self.class_prob\n",
        "\n",
        "    def predict(self, X):\n",
        "        ''' This funtion predicts the class of a sample '''\n",
        "        pred = []\n",
        "        for x in X:\n",
        "            pred_class = None\n",
        "            max_prob = 0\n",
        "            for cls, prob in self.predict_proba(x).items():\n",
        "                if prob>max_prob:\n",
        "                    max_prob = prob\n",
        "                    pred_class = cls\n",
        "            pred.append(pred_class)\n",
        "        return pred"
      ],
      "execution_count": 7,
      "outputs": []
    },
    {
      "cell_type": "markdown",
      "metadata": {
        "id": "ZGExRYPSoJ3k"
      },
      "source": [
        "Построение классификаторов"
      ]
    },
    {
      "cell_type": "code",
      "metadata": {
        "id": "MtcvDWRLpkDz"
      },
      "source": [
        "# All models in SciKit-Learn have the same interface.\n",
        "# So it is sufficient to only change the class, all the training and prediction code remains the same.\n",
        "# Change the model and see how it performs on the data.\n",
        "# ---\n",
        "# Все модели в SciKit-Learn имеют один и тот же интерфейс.\n",
        "# Поэтому достаточно изменить лишь класс, код обучения и получения ответов модели остаётся таким же.\n",
        "# Попробуйте выбрать другую модель и посмотрите, как она работает на этих данных.\n",
        "model_Gaus = GaussianNB()\n",
        "model_Multi = MultinomialNB()\n",
        "model_Compl = ComplementNB()\n",
        "model_Bern = BernoulliNB()\n",
        "model_Baes = NaiveBayesClassifier()"
      ],
      "execution_count": 8,
      "outputs": []
    },
    {
      "cell_type": "markdown",
      "metadata": {
        "id": "58FNkP4PoRKt"
      },
      "source": [
        "Передача обучающих данных классификаторам"
      ]
    },
    {
      "cell_type": "code",
      "metadata": {
        "id": "QDMnCBHHpkDz"
      },
      "source": [
        "model_Gaus.fit(Xtrain, Ytrain)\n",
        "model_Multi.fit(Xtrain, Ytrain)\n",
        "model_Compl.fit(Xtrain, Ytrain)\n",
        "model_Bern.fit(Xtrain, Ytrain)\n",
        "\n",
        "model_Baes.fit(Xtrain.to_numpy(), Ytrain.to_numpy())"
      ],
      "execution_count": 9,
      "outputs": []
    },
    {
      "cell_type": "markdown",
      "metadata": {
        "id": "c1si51Mzoq_k"
      },
      "source": [
        "Предсказание классов экземпляров"
      ]
    },
    {
      "cell_type": "code",
      "metadata": {
        "id": "BDT1KCXYpkDz"
      },
      "source": [
        "pred_Gaus = model_Gaus.predict(Xtest)\n",
        "pred_Multi = model_Multi.predict(Xtest)\n",
        "pred_Compl = model_Compl.predict(Xtest)\n",
        "pred_Bern = model_Bern.predict(Xtest)\n",
        "\n",
        "pred_Baes = model_Baes.predict(Xtest.to_numpy())"
      ],
      "execution_count": 10,
      "outputs": []
    },
    {
      "cell_type": "markdown",
      "metadata": {
        "id": "mnNMSCXTo1xo"
      },
      "source": [
        "Подсчёт времени предсказания для каждой точки"
      ]
    },
    {
      "cell_type": "code",
      "metadata": {
        "colab": {
          "base_uri": "https://localhost:8080/",
          "height": 298
        },
        "id": "CibDZo0A8vtB",
        "outputId": "5bcf2e76-4dc5-4bc9-f4e0-ab9bbada3f1d"
      },
      "source": [
        "times = {'Gaus':[], 'Multi':[], 'Compl':[], 'Bern':[], 'Baes': []}\n",
        "for point in Xtest.values:\n",
        "  start = time()\n",
        "  model_Gaus.predict([point])\n",
        "  times['Gaus'].append(time() - start)\n",
        "\n",
        "  start = time()\n",
        "  model_Multi.predict([point])\n",
        "  times['Multi'].append(time() - start)\n",
        "\n",
        "  start = time()\n",
        "  model_Compl.predict([point])\n",
        "  times['Compl'].append(time() - start)\n",
        "\n",
        "  start = time()\n",
        "  model_Bern.predict([point])\n",
        "  times['Bern'].append(time() - start)\n",
        "\n",
        "  start = time()\n",
        "  model_Baes.predict([point])\n",
        "  times['Baes'].append(time() - start)\n",
        "\n",
        "df_times = pd.DataFrame(times)\n",
        "df_times.describe()"
      ],
      "execution_count": 11,
      "outputs": [
        {
          "output_type": "execute_result",
          "data": {
            "text/html": [
              "<div>\n",
              "<style scoped>\n",
              "    .dataframe tbody tr th:only-of-type {\n",
              "        vertical-align: middle;\n",
              "    }\n",
              "\n",
              "    .dataframe tbody tr th {\n",
              "        vertical-align: top;\n",
              "    }\n",
              "\n",
              "    .dataframe thead th {\n",
              "        text-align: right;\n",
              "    }\n",
              "</style>\n",
              "<table border=\"1\" class=\"dataframe\">\n",
              "  <thead>\n",
              "    <tr style=\"text-align: right;\">\n",
              "      <th></th>\n",
              "      <th>Gaus</th>\n",
              "      <th>Multi</th>\n",
              "      <th>Compl</th>\n",
              "      <th>Bern</th>\n",
              "      <th>Baes</th>\n",
              "    </tr>\n",
              "  </thead>\n",
              "  <tbody>\n",
              "    <tr>\n",
              "      <th>count</th>\n",
              "      <td>529.000000</td>\n",
              "      <td>529.000000</td>\n",
              "      <td>529.000000</td>\n",
              "      <td>529.000000</td>\n",
              "      <td>529.000000</td>\n",
              "    </tr>\n",
              "    <tr>\n",
              "      <th>mean</th>\n",
              "      <td>0.000230</td>\n",
              "      <td>0.000088</td>\n",
              "      <td>0.000080</td>\n",
              "      <td>0.000163</td>\n",
              "      <td>0.000110</td>\n",
              "    </tr>\n",
              "    <tr>\n",
              "      <th>std</th>\n",
              "      <td>0.000173</td>\n",
              "      <td>0.000035</td>\n",
              "      <td>0.000039</td>\n",
              "      <td>0.000077</td>\n",
              "      <td>0.000024</td>\n",
              "    </tr>\n",
              "    <tr>\n",
              "      <th>min</th>\n",
              "      <td>0.000168</td>\n",
              "      <td>0.000057</td>\n",
              "      <td>0.000052</td>\n",
              "      <td>0.000111</td>\n",
              "      <td>0.000087</td>\n",
              "    </tr>\n",
              "    <tr>\n",
              "      <th>25%</th>\n",
              "      <td>0.000177</td>\n",
              "      <td>0.000061</td>\n",
              "      <td>0.000055</td>\n",
              "      <td>0.000118</td>\n",
              "      <td>0.000093</td>\n",
              "    </tr>\n",
              "    <tr>\n",
              "      <th>50%</th>\n",
              "      <td>0.000192</td>\n",
              "      <td>0.000066</td>\n",
              "      <td>0.000057</td>\n",
              "      <td>0.000125</td>\n",
              "      <td>0.000098</td>\n",
              "    </tr>\n",
              "    <tr>\n",
              "      <th>75%</th>\n",
              "      <td>0.000246</td>\n",
              "      <td>0.000118</td>\n",
              "      <td>0.000108</td>\n",
              "      <td>0.000207</td>\n",
              "      <td>0.000123</td>\n",
              "    </tr>\n",
              "    <tr>\n",
              "      <th>max</th>\n",
              "      <td>0.002954</td>\n",
              "      <td>0.000354</td>\n",
              "      <td>0.000574</td>\n",
              "      <td>0.001189</td>\n",
              "      <td>0.000282</td>\n",
              "    </tr>\n",
              "  </tbody>\n",
              "</table>\n",
              "</div>"
            ],
            "text/plain": [
              "             Gaus       Multi       Compl        Bern        Baes\n",
              "count  529.000000  529.000000  529.000000  529.000000  529.000000\n",
              "mean     0.000230    0.000088    0.000080    0.000163    0.000110\n",
              "std      0.000173    0.000035    0.000039    0.000077    0.000024\n",
              "min      0.000168    0.000057    0.000052    0.000111    0.000087\n",
              "25%      0.000177    0.000061    0.000055    0.000118    0.000093\n",
              "50%      0.000192    0.000066    0.000057    0.000125    0.000098\n",
              "75%      0.000246    0.000118    0.000108    0.000207    0.000123\n",
              "max      0.002954    0.000354    0.000574    0.001189    0.000282"
            ]
          },
          "metadata": {},
          "execution_count": 11
        }
      ]
    },
    {
      "cell_type": "markdown",
      "metadata": {
        "id": "c_fHhIeWpFLp"
      },
      "source": [
        "Подсчёт точности"
      ]
    },
    {
      "cell_type": "code",
      "metadata": {
        "id": "aQ4mUNqVpkDz"
      },
      "source": [
        "def evaluate(P, T):\n",
        "    accuracy = np.mean(P == T)\n",
        "    return f\"{accuracy*100} %\""
      ],
      "execution_count": 12,
      "outputs": []
    },
    {
      "cell_type": "code",
      "metadata": {
        "colab": {
          "base_uri": "https://localhost:8080/",
          "height": 80
        },
        "id": "gpBazKsvpkD0",
        "outputId": "b3d3cf4e-21ad-4cef-9d34-1cce84bc9a27"
      },
      "source": [
        "accuracy = {'Gaus':evaluate(pred_Gaus, Ytest), \n",
        "         'Multi':evaluate(pred_Multi, Ytest), \n",
        "         'Compl':evaluate(pred_Compl, Ytest), \n",
        "         'Bern':evaluate(pred_Bern, Ytest), \n",
        "         'Baes':evaluate(pred_Baes, Ytest) }\n",
        "df_accuracy = pd.DataFrame(accuracy, index=[\"accuracy\"])\n",
        "df_accuracy"
      ],
      "execution_count": 13,
      "outputs": [
        {
          "output_type": "execute_result",
          "data": {
            "text/html": [
              "<div>\n",
              "<style scoped>\n",
              "    .dataframe tbody tr th:only-of-type {\n",
              "        vertical-align: middle;\n",
              "    }\n",
              "\n",
              "    .dataframe tbody tr th {\n",
              "        vertical-align: top;\n",
              "    }\n",
              "\n",
              "    .dataframe thead th {\n",
              "        text-align: right;\n",
              "    }\n",
              "</style>\n",
              "<table border=\"1\" class=\"dataframe\">\n",
              "  <thead>\n",
              "    <tr style=\"text-align: right;\">\n",
              "      <th></th>\n",
              "      <th>Gaus</th>\n",
              "      <th>Multi</th>\n",
              "      <th>Compl</th>\n",
              "      <th>Bern</th>\n",
              "      <th>Baes</th>\n",
              "    </tr>\n",
              "  </thead>\n",
              "  <tbody>\n",
              "    <tr>\n",
              "      <th>accuracy</th>\n",
              "      <td>64.46124763705104 %</td>\n",
              "      <td>25.51984877126654 %</td>\n",
              "      <td>27.599243856332706 %</td>\n",
              "      <td>23.440453686200378 %</td>\n",
              "      <td>62.003780718336486 %</td>\n",
              "    </tr>\n",
              "  </tbody>\n",
              "</table>\n",
              "</div>"
            ],
            "text/plain": [
              "                         Gaus  ...                  Baes\n",
              "accuracy  64.46124763705104 %  ...  62.003780718336486 %\n",
              "\n",
              "[1 rows x 5 columns]"
            ]
          },
          "metadata": {},
          "execution_count": 13
        }
      ]
    },
    {
      "cell_type": "code",
      "metadata": {
        "colab": {
          "base_uri": "https://localhost:8080/"
        },
        "id": "mKv_xcgPpPVH",
        "outputId": "63c33c97-1763-482c-8ee9-054d2fb6cbce"
      },
      "source": [
        "top_acc = np.max(df_accuracy.values)\n",
        "print(f\"Classifier with maximum accuracy is Gaussian (acc = {top_acc})\")"
      ],
      "execution_count": 14,
      "outputs": [
        {
          "output_type": "stream",
          "name": "stdout",
          "text": [
            "Classifier with maximum accuracy is Gaussian (acc = 64.46124763705104 %)\n"
          ]
        }
      ]
    },
    {
      "cell_type": "code",
      "metadata": {
        "id": "E4BIkI3ypkD0"
      },
      "source": [
        "conf_mat_Gaus = confusion_matrix(Ytest, pred_Gaus)\n",
        "conf_mat_Multi = confusion_matrix(Ytest, pred_Multi)\n",
        "conf_mat_Compl = confusion_matrix(Ytest, pred_Compl)\n",
        "conf_mat_Bern = confusion_matrix(Ytest, pred_Bern)\n",
        "conf_mat_Baes = confusion_matrix(Ytest, pred_Baes)"
      ],
      "execution_count": 15,
      "outputs": []
    },
    {
      "cell_type": "markdown",
      "metadata": {
        "id": "9JYKJbfpstEI"
      },
      "source": [
        "Матрица ошибок GaussianNB\n",
        "\n"
      ]
    },
    {
      "cell_type": "code",
      "metadata": {
        "colab": {
          "base_uri": "https://localhost:8080/",
          "height": 282
        },
        "id": "L8R9c7AhpkD0",
        "outputId": "fd7edca1-8084-4b0a-9434-4c51d59c3d90"
      },
      "source": [
        "sns.heatmap(conf_mat_Gaus, annot=True, fmt=\"d\")"
      ],
      "execution_count": 16,
      "outputs": [
        {
          "output_type": "execute_result",
          "data": {
            "text/plain": [
              "<matplotlib.axes._subplots.AxesSubplot at 0x7f8bae7b7550>"
            ]
          },
          "metadata": {},
          "execution_count": 16
        },
        {
          "output_type": "display_data",
          "data": {
            "image/png": "[encoded data removed]",
            "text/plain": [
              "<Figure size 432x288 with 2 Axes>"
            ]
          },
          "metadata": {
            "needs_background": "light"
          }
        }
      ]
    },
    {
      "cell_type": "markdown",
      "metadata": {
        "id": "K_et7tKOs2ZY"
      },
      "source": [
        "Матрица ошибок MultinomialNB"
      ]
    },
    {
      "cell_type": "code",
      "metadata": {
        "colab": {
          "base_uri": "https://localhost:8080/",
          "height": 282
        },
        "id": "cFFuwSLW4_-R",
        "outputId": "ef0a678e-9172-4be8-b7b2-161f2d9146b0"
      },
      "source": [
        "sns.heatmap(conf_mat_Multi, annot=True, fmt=\"d\")"
      ],
      "execution_count": 17,
      "outputs": [
        {
          "output_type": "execute_result",
          "data": {
            "text/plain": [
              "<matplotlib.axes._subplots.AxesSubplot at 0x7f8baf38ff10>"
            ]
          },
          "metadata": {},
          "execution_count": 17
        },
        {
          "output_type": "display_data",
          "data": {
            "image/png": "[encoded data removed]",
            "text/plain": [
              "<Figure size 432x288 with 2 Axes>"
            ]
          },
          "metadata": {
            "needs_background": "light"
          }
        }
      ]
    },
    {
      "cell_type": "markdown",
      "metadata": {
        "id": "0TXbRzRis9bC"
      },
      "source": [
        "Матрица ошибок ComplementNB"
      ]
    },
    {
      "cell_type": "code",
      "metadata": {
        "colab": {
          "base_uri": "https://localhost:8080/",
          "height": 282
        },
        "id": "04gYBcP75AQr",
        "outputId": "d3a234e8-4798-4a75-acfc-746fb99852b0"
      },
      "source": [
        "sns.heatmap(conf_mat_Compl, annot=True, fmt=\"d\")"
      ],
      "execution_count": 18,
      "outputs": [
        {
          "output_type": "execute_result",
          "data": {
            "text/plain": [
              "<matplotlib.axes._subplots.AxesSubplot at 0x7f8ba417c790>"
            ]
          },
          "metadata": {},
          "execution_count": 18
        },
        {
          "output_type": "display_data",
          "data": {
            "image/png": "[encoded data removed]",
            "text/plain": [
              "<Figure size 432x288 with 2 Axes>"
            ]
          },
          "metadata": {
            "needs_background": "light"
          }
        }
      ]
    },
    {
      "cell_type": "markdown",
      "metadata": {
        "id": "LeG1AzTXtAL2"
      },
      "source": [
        "Матрица ошибок BernoulliNB"
      ]
    },
    {
      "cell_type": "code",
      "metadata": {
        "colab": {
          "base_uri": "https://localhost:8080/",
          "height": 282
        },
        "id": "7ls-levr5Aih",
        "outputId": "ab12dd69-7303-49f7-958e-cffe50dc01c5"
      },
      "source": [
        "sns.heatmap(conf_mat_Bern, annot=True, fmt=\"d\")"
      ],
      "execution_count": 19,
      "outputs": [
        {
          "output_type": "execute_result",
          "data": {
            "text/plain": [
              "<matplotlib.axes._subplots.AxesSubplot at 0x7f8ba41f7650>"
            ]
          },
          "metadata": {},
          "execution_count": 19
        },
        {
          "output_type": "display_data",
          "data": {
            "image/png": "[encoded data removed]",
            "text/plain": [
              "<Figure size 432x288 with 2 Axes>"
            ]
          },
          "metadata": {
            "needs_background": "light"
          }
        }
      ]
    },
    {
      "cell_type": "markdown",
      "metadata": {
        "id": "KWtdQb2mtDjx"
      },
      "source": [
        "Матрица ошибок собственного Байесовского классификатора"
      ]
    },
    {
      "cell_type": "code",
      "metadata": {
        "colab": {
          "base_uri": "https://localhost:8080/",
          "height": 283
        },
        "id": "KXbbWWoffP21",
        "outputId": "9ea390b9-a231-4154-f420-f70a893c03c8"
      },
      "source": [
        "sns.heatmap(conf_mat_Baes, annot=True, fmt=\"d\")"
      ],
      "execution_count": 20,
      "outputs": [
        {
          "output_type": "execute_result",
          "data": {
            "text/plain": [
              "<matplotlib.axes._subplots.AxesSubplot at 0x7f8ba4027790>"
            ]
          },
          "metadata": {},
          "execution_count": 20
        },
        {
          "output_type": "display_data",
          "data": {
            "image/png": "[encoded data removed]",
            "text/plain": [
              "<Figure size 432x288 with 2 Axes>"
            ]
          },
          "metadata": {
            "needs_background": "light"
          }
        }
      ]
    },
    {
      "cell_type": "markdown",
      "metadata": {
        "id": "0s1FLc8YtW3f"
      },
      "source": [
        "Гистограмма производительности"
      ]
    },
    {
      "cell_type": "code",
      "metadata": {
        "colab": {
          "base_uri": "https://localhost:8080/",
          "height": 282
        },
        "id": "-iU473w9gVDw",
        "outputId": "d29a1b2a-0187-47b9-fec7-44ae572bf6b0"
      },
      "source": [
        "sns.histplot(df_times)"
      ],
      "execution_count": 21,
      "outputs": [
        {
          "output_type": "execute_result",
          "data": {
            "text/plain": [
              "<matplotlib.axes._subplots.AxesSubplot at 0x7f8ba3f752d0>"
            ]
          },
          "metadata": {},
          "execution_count": 21
        },
        {
          "output_type": "display_data",
          "data": {
            "image/png": "[encoded data removed]",
            "text/plain": [
              "<Figure size 432x288 with 1 Axes>"
            ]
          },
          "metadata": {
            "needs_background": "light"
          }
        }
      ]
    },
    {
      "cell_type": "markdown",
      "metadata": {
        "id": "eTmloKZZthQU"
      },
      "source": [
        "Дисперсия производительности каждого классификатора"
      ]
    },
    {
      "cell_type": "code",
      "metadata": {
        "colab": {
          "base_uri": "https://localhost:8080/"
        },
        "id": "KMAq63RRjLSR",
        "outputId": "75edfa40-017a-4196-9821-bfcc4fc785be"
      },
      "source": [
        "variance_times = np.var(df_times)\n",
        "variance_times"
      ],
      "execution_count": 22,
      "outputs": [
        {
          "output_type": "execute_result",
          "data": {
            "text/plain": [
              "Gaus     2.993586e-08\n",
              "Multi    1.199695e-09\n",
              "Compl    1.487415e-09\n",
              "Bern     5.941925e-09\n",
              "Baes     5.572037e-10\n",
              "dtype: float64"
            ]
          },
          "metadata": {},
          "execution_count": 22
        }
      ]
    },
    {
      "cell_type": "code",
      "metadata": {
        "colab": {
          "base_uri": "https://localhost:8080/"
        },
        "id": "fa3ZsBW_jZyG",
        "outputId": "e7a2f7b6-24b6-4f9a-c96b-bf81ba7ef7c9"
      },
      "source": [
        "min_var = np.min(variance_times)\n",
        "print(f\"The classifier with the highest stability: {min_var}\")"
      ],
      "execution_count": 25,
      "outputs": [
        {
          "output_type": "stream",
          "name": "stdout",
          "text": [
            "The classifier with the highest stability: 5.572036620442562e-10\n"
          ]
        }
      ]
    }
  ]
}
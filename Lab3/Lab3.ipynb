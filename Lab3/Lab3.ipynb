{
  "nbformat": 4,
  "nbformat_minor": 0,
  "metadata": {
    "colab": {
      "name": "Lab3.ipynb",
      "provenance": []
    },
    "kernelspec": {
      "name": "python3",
      "display_name": "Python 3"
    },
    "language_info": {
      "name": "python"
    }
  },
  "cells": [
    {
      "cell_type": "markdown",
      "metadata": {
        "id": "JCwRPWKbfC3S"
      },
      "source": [
        "## Assignment\n",
        "\n",
        "Develop your own implementations of Grid Search and Random Search. This methods should find model's hyperparameters which satisfy __minimum error value__ requirement from the variant. Use the data obtained in the first lab to train the classifiers. Type of the error is defined by the variant:\n",
        "\n",
        "* Even variant - find such parameters for the models, so that they minimize type 1 error.\n",
        "* Odd variant - find such parameters for the models, so that they minimize type 2 error.\n",
        "\n",
        "### Upon the completion of the assignement the following must be done\n",
        "\n",
        "1. List of hyperparameters values for _KNeighborsClassifier_ and _DecisionTreeClassifier_ classifiers.\n",
        "2. Table containing f1-score, precision and recall for each class, obtained using optimal hyperparameters.\n",
        "3. Consider pros and cons of using hyperparameters search methods.\n",
        "\n",
        "---\n",
        "\n",
        "Разработать собственную реализацию методов Grid Search и Random Search. Данные методы должны находить гиперпараметры модели, которые обеспечивают минимальное значение ошибки согласно варианту. Использовать наборы данных, полученные при выполнении лабораторной работы №1. Вид ошибки определяется в зависимости от варианта:\n",
        "\n",
        "* Чётный номер варианта – ошибка первого рода\n",
        "* Нечётный номер вариант – ошибка второго рода.\n",
        "\n",
        "### Результаты, которые необходимо получить в итоге:\n",
        "\n",
        "1. Значения гиперпараметров классификаторов (_KNeighborsClassifier_ и _DecisionTreeClassifier_).\n",
        "2. Таблицу, содержащую значения F-меры, точности и полноты для каждого класса при использовании оптимальных значений параметров классификации.\n",
        "3. Выводы о плюсах и минусах используемых методов поиска оптимальных параметров.\n"
      ]
    },
    {
      "cell_type": "markdown",
      "metadata": {
        "id": "4fQZyfADe4YZ"
      },
      "source": [
        "# Вариант №5 Борисов Дмитрий (6133-010402D)\n",
        "Вид ошибки согласно варианту: ошибка второго рода.\n",
        "\n",
        "Минимизация этого рода ошибки происходит при помощи методов Grid Search и Random Search и метрике **recall**\n"
      ]
    },
    {
      "cell_type": "code",
      "metadata": {
        "id": "K-XiLNmJepBT"
      },
      "source": [
        "import pandas as pd\n",
        "from numpy import unique, mean\n",
        "from random import sample\n",
        "import seaborn as sns\n",
        "import matplotlib.pyplot as plt\n",
        "\n",
        "from sklearn.tree import DecisionTreeClassifier\n",
        "from sklearn.neighbors import KNeighborsClassifier\n",
        "\n",
        "from sklearn.metrics import classification_report, confusion_matrix\n",
        "from sklearn.model_selection import train_test_split, cross_val_score, cross_validate, GridSearchCV, RandomizedSearchCV\n",
        "from itertools import product"
      ],
      "execution_count": 1,
      "outputs": []
    },
    {
      "cell_type": "markdown",
      "metadata": {
        "id": "x0MCc25beCr3"
      },
      "source": [
        "## Получение данных из лабораторной работы №1"
      ]
    },
    {
      "cell_type": "code",
      "metadata": {
        "id": "XGRKHiHSfYPd"
      },
      "source": [
        "data = pd.read_excel(\"Data from Lab1.xlsx\")"
      ],
      "execution_count": 2,
      "outputs": []
    },
    {
      "cell_type": "code",
      "metadata": {
        "colab": {
          "base_uri": "https://localhost:8080/",
          "height": 417
        },
        "id": "DMuaNsB2gH6P",
        "outputId": "ddd533f4-0db2-4bde-f2d7-85e22196de54"
      },
      "source": [
        "data"
      ],
      "execution_count": 3,
      "outputs": [
        {
          "output_type": "execute_result",
          "data": {
            "text/html": [
              "<div>\n",
              "<style scoped>\n",
              "    .dataframe tbody tr th:only-of-type {\n",
              "        vertical-align: middle;\n",
              "    }\n",
              "\n",
              "    .dataframe tbody tr th {\n",
              "        vertical-align: top;\n",
              "    }\n",
              "\n",
              "    .dataframe thead th {\n",
              "        text-align: right;\n",
              "    }\n",
              "</style>\n",
              "<table border=\"1\" class=\"dataframe\">\n",
              "  <thead>\n",
              "    <tr style=\"text-align: right;\">\n",
              "      <th></th>\n",
              "      <th>x</th>\n",
              "      <th>y</th>\n",
              "      <th>label</th>\n",
              "    </tr>\n",
              "  </thead>\n",
              "  <tbody>\n",
              "    <tr>\n",
              "      <th>0</th>\n",
              "      <td>1.715092</td>\n",
              "      <td>1.698583</td>\n",
              "      <td>2</td>\n",
              "    </tr>\n",
              "    <tr>\n",
              "      <th>1</th>\n",
              "      <td>-0.560312</td>\n",
              "      <td>0.864461</td>\n",
              "      <td>0</td>\n",
              "    </tr>\n",
              "    <tr>\n",
              "      <th>2</th>\n",
              "      <td>-0.691317</td>\n",
              "      <td>1.670343</td>\n",
              "      <td>0</td>\n",
              "    </tr>\n",
              "    <tr>\n",
              "      <th>3</th>\n",
              "      <td>-0.015075</td>\n",
              "      <td>-0.392310</td>\n",
              "      <td>0</td>\n",
              "    </tr>\n",
              "    <tr>\n",
              "      <th>4</th>\n",
              "      <td>0.694022</td>\n",
              "      <td>2.900271</td>\n",
              "      <td>2</td>\n",
              "    </tr>\n",
              "    <tr>\n",
              "      <th>...</th>\n",
              "      <td>...</td>\n",
              "      <td>...</td>\n",
              "      <td>...</td>\n",
              "    </tr>\n",
              "    <tr>\n",
              "      <th>2111</th>\n",
              "      <td>0.455029</td>\n",
              "      <td>-0.379949</td>\n",
              "      <td>0</td>\n",
              "    </tr>\n",
              "    <tr>\n",
              "      <th>2112</th>\n",
              "      <td>1.068816</td>\n",
              "      <td>1.484386</td>\n",
              "      <td>0</td>\n",
              "    </tr>\n",
              "    <tr>\n",
              "      <th>2113</th>\n",
              "      <td>0.869847</td>\n",
              "      <td>1.140778</td>\n",
              "      <td>1</td>\n",
              "    </tr>\n",
              "    <tr>\n",
              "      <th>2114</th>\n",
              "      <td>1.344564</td>\n",
              "      <td>1.453539</td>\n",
              "      <td>1</td>\n",
              "    </tr>\n",
              "    <tr>\n",
              "      <th>2115</th>\n",
              "      <td>2.125623</td>\n",
              "      <td>0.435670</td>\n",
              "      <td>1</td>\n",
              "    </tr>\n",
              "  </tbody>\n",
              "</table>\n",
              "<p>2116 rows × 3 columns</p>\n",
              "</div>"
            ],
            "text/plain": [
              "             x         y  label\n",
              "0     1.715092  1.698583      2\n",
              "1    -0.560312  0.864461      0\n",
              "2    -0.691317  1.670343      0\n",
              "3    -0.015075 -0.392310      0\n",
              "4     0.694022  2.900271      2\n",
              "...        ...       ...    ...\n",
              "2111  0.455029 -0.379949      0\n",
              "2112  1.068816  1.484386      0\n",
              "2113  0.869847  1.140778      1\n",
              "2114  1.344564  1.453539      1\n",
              "2115  2.125623  0.435670      1\n",
              "\n",
              "[2116 rows x 3 columns]"
            ]
          },
          "metadata": {},
          "execution_count": 3
        }
      ]
    },
    {
      "cell_type": "code",
      "metadata": {
        "id": "VMcTNa8NumXW"
      },
      "source": [
        "data, labels = data[['x', 'y']], data['label']"
      ],
      "execution_count": 4,
      "outputs": []
    },
    {
      "cell_type": "code",
      "metadata": {
        "colab": {
          "base_uri": "https://localhost:8080/"
        },
        "id": "egz0ecNdiNco",
        "outputId": "05b2f5a0-ddda-447a-be2d-10178e56e2f6"
      },
      "source": [
        "unique_labels = unique(labels)\n",
        "print(\"Уникальные метки данных: \", ', '.join(str(label) for label in unique_labels))"
      ],
      "execution_count": 5,
      "outputs": [
        {
          "output_type": "stream",
          "name": "stdout",
          "text": [
            "Уникальные метки данных:  0, 1, 2, 3\n"
          ]
        }
      ]
    },
    {
      "cell_type": "code",
      "metadata": {
        "colab": {
          "base_uri": "https://localhost:8080/",
          "height": 265
        },
        "id": "Sab4pJfzig2w",
        "outputId": "29fa647e-19eb-42db-f68f-efaf4d76f7e6"
      },
      "source": [
        "plt.scatter(data['x'], data['y'], c=labels, marker=\".\")\n",
        "plt.show()"
      ],
      "execution_count": 6,
      "outputs": [
        {
          "output_type": "display_data",
          "data": {
            "image/png": "[encoded data removed]",
            "text/plain": [
              "<Figure size 432x288 with 1 Axes>"
            ]
          },
          "metadata": {
            "needs_background": "light"
          }
        }
      ]
    },
    {
      "cell_type": "markdown",
      "metadata": {
        "id": "YfqyxDTYeabX"
      },
      "source": [
        "## Реализация методов GridSearchCV и RandomizedSearchCV\n",
        "Данные классы реализуют методы нахождения оптимальных гиперпараметров\n",
        "по одной метрике, так как используют **cross_val_score**\n"
      ]
    },
    {
      "cell_type": "code",
      "metadata": {
        "id": "H4oVVM7-8G_q"
      },
      "source": [
        "class MyGridSearch:\n",
        "  def __init__(self, estimator, param_grid, scoring, cv=5):\n",
        "    self.estimator = estimator\n",
        "    self.param_grid = param_grid\n",
        "    self.scoring = scoring\n",
        "    self.best_params_ = None\n",
        "    self.cv = cv\n",
        "\n",
        "  def fit(self, X, y):\n",
        "    keys = [*self.param_grid.keys()]\n",
        "    best_params = None\n",
        "    best_score = None\n",
        "\n",
        "    # Построение сетки (декартово произведение) гиперпараметров\n",
        "    for param in product(*self.param_grid.values()):\n",
        "      param_dict = dict([(keys[i], param[i]) for i in range(len(keys))])\n",
        "      self.estimator.set_params(**param_dict)\n",
        "      curr_score = mean(cross_val_score(self.estimator, X, y, scoring=self.scoring, cv=self.cv))\n",
        "      if best_score is None or curr_score > best_score:\n",
        "        best_params = param_dict\n",
        "        best_score = curr_score\n",
        "\n",
        "    self.best_params_ = best_params\n",
        "    self.best_score_ = best_score"
      ],
      "execution_count": 7,
      "outputs": []
    },
    {
      "cell_type": "code",
      "metadata": {
        "id": "9t6Wqs4L6DUL"
      },
      "source": [
        "class MyRandomizedSearch:\n",
        "  def __init__(self, estimator, param_distributions, scoring, cv=5, n_iter=5):\n",
        "    self.estimator = estimator\n",
        "    self.param_distributions = param_distributions\n",
        "    self.random_params = None\n",
        "    self.scoring = scoring\n",
        "    self.best_params_ = None\n",
        "    self.best_score_ = None\n",
        "    self.cv = cv\n",
        "    self.n_iter = n_iter\n",
        "\n",
        "  def fit(self, X, y):\n",
        "    keys = [*self.param_distributions.keys()]\n",
        "    best_params = None\n",
        "    best_score = None\n",
        "    random_parameters = {}\n",
        "\n",
        "    # Генерация случайных числовых гиперпараметров\n",
        "    for key in self.param_distributions.keys():\n",
        "      param = self.param_distributions[key]\n",
        "      if isinstance(param, tuple) and len(param) == 2 and isinstance(param[0], int) and isinstance(param[1], int):\n",
        "        range_space = param[1] - param[0]\n",
        "        if self.n_iter > range_space:\n",
        "          self.n_iter = int(range_space)\n",
        "        random_parameters[key] = sample(range(param[0], param[1] + 1), self.n_iter)\n",
        "      else:\n",
        "        random_parameters[key] = param\n",
        "\n",
        "    self.random_params = random_parameters\n",
        "\n",
        "    # Построение сетки (декартово произведение) гиперпараметров\n",
        "    for param in product(*random_parameters.values()):\n",
        "      param_dict = dict([(keys[i], param[i]) for i in range(len(keys))])\n",
        "      self.estimator.set_params(**param_dict)\n",
        "      curr_score = mean(cross_val_score(self.estimator, X, y, scoring=self.scoring, cv=self.cv))\n",
        "      if best_score is None or curr_score > best_score:\n",
        "        best_params = param_dict\n",
        "        best_score = curr_score\n",
        "\n",
        "    self.best_params_ = best_params\n",
        "    self.best_score_ = best_score"
      ],
      "execution_count": 8,
      "outputs": []
    },
    {
      "cell_type": "markdown",
      "metadata": {
        "id": "n8kzCYhXh98r"
      },
      "source": [
        "## Подготовка данных"
      ]
    },
    {
      "cell_type": "code",
      "metadata": {
        "id": "cLKo9tWbg_Sg"
      },
      "source": [
        "tree_model = DecisionTreeClassifier()"
      ],
      "execution_count": 9,
      "outputs": []
    },
    {
      "cell_type": "code",
      "metadata": {
        "id": "42oheCERkiHE"
      },
      "source": [
        "neighbors_model = KNeighborsClassifier()"
      ],
      "execution_count": 10,
      "outputs": []
    },
    {
      "cell_type": "code",
      "metadata": {
        "id": "yMb_53sJEd0R"
      },
      "source": [
        "Xtrain, Xtest, Ytrain, Ytest = train_test_split(data, labels, test_size=0.3)"
      ],
      "execution_count": 11,
      "outputs": []
    },
    {
      "cell_type": "markdown",
      "metadata": {
        "id": "J6UoZ-7AiO6G"
      },
      "source": [
        "## Инициализация возможных гиперпараметров"
      ]
    },
    {
      "cell_type": "markdown",
      "metadata": {
        "id": "h9-orpRiiu2q"
      },
      "source": [
        "Возможные гиперпараметры _DecisionTree_ для **GridSearch**"
      ]
    },
    {
      "cell_type": "code",
      "metadata": {
        "id": "q8Jyp4m50gKv"
      },
      "source": [
        "g_max_depth = [2, 3, 4, 5, 6, 7]\n",
        "g_max_leaf_nodes = [2, 3, 4, 5]\n",
        "g_criterion = ['gini', 'entropy']\n",
        "g_tree_parameters = {\n",
        "    'max_depth': g_max_depth,\n",
        "    'max_leaf_nodes': g_max_leaf_nodes,\n",
        "    'criterion': g_criterion\n",
        "}"
      ],
      "execution_count": 12,
      "outputs": []
    },
    {
      "cell_type": "markdown",
      "metadata": {
        "id": "3u0Q05I1i-96"
      },
      "source": [
        "Возможные гиперпараметры _KNeighbors_ для **GridSearch**"
      ]
    },
    {
      "cell_type": "code",
      "metadata": {
        "id": "ysWouKcl-LX6"
      },
      "source": [
        "g_n_neighbors = range(1, 15)\n",
        "g_weights = ['uniform', 'distance']\n",
        "g_p = [1, 2, 3]\n",
        "g_neigh_parameters = {\n",
        "    'n_neighbors': g_n_neighbors,\n",
        "    'weights': g_weights,\n",
        "    'p': g_p\n",
        "}"
      ],
      "execution_count": 13,
      "outputs": []
    },
    {
      "cell_type": "markdown",
      "metadata": {
        "id": "k6qSSQBZjLHF"
      },
      "source": [
        "Возможные гиперпараметры _DesicionTree_ для **RandomSearch**"
      ]
    },
    {
      "cell_type": "code",
      "metadata": {
        "id": "NyIr9zFCZv-j"
      },
      "source": [
        "r_max_depth = (2, 7)\n",
        "r_max_leaf_nodes = (2, 5)\n",
        "r_criterion = ['gini', 'entropy']\n",
        "r_tree_parameters = {\n",
        "    'max_depth': r_max_depth,\n",
        "    'max_leaf_nodes': r_max_leaf_nodes,\n",
        "    'criterion': r_criterion\n",
        "}"
      ],
      "execution_count": 14,
      "outputs": []
    },
    {
      "cell_type": "markdown",
      "metadata": {
        "id": "Ph15L13LjLdD"
      },
      "source": [
        "Возможные гиперпараметры _KNeighbors_ для **RandomSearch**"
      ]
    },
    {
      "cell_type": "code",
      "metadata": {
        "id": "AjtE_HypTi4y"
      },
      "source": [
        "r_n_neighbors = (1, 15)\n",
        "r_weights = ['uniform', 'distance']\n",
        "r_p = (1, 4)\n",
        "r_neigh_parameters = {\n",
        "    'n_neighbors': r_n_neighbors,\n",
        "    'weights': r_weights,\n",
        "    'p': r_p\n",
        "}"
      ],
      "execution_count": 15,
      "outputs": []
    },
    {
      "cell_type": "markdown",
      "metadata": {
        "id": "K0ngB78pjdjn"
      },
      "source": [
        "## Запуск реализованных методов"
      ]
    },
    {
      "cell_type": "markdown",
      "metadata": {
        "id": "2jNcNhvyju5j"
      },
      "source": [
        "Запуск **GridSearch** для _DesicionTree_"
      ]
    },
    {
      "cell_type": "code",
      "metadata": {
        "colab": {
          "base_uri": "https://localhost:8080/"
        },
        "id": "L4kO83GouT3-",
        "outputId": "dc79e4f7-6e24-4c0c-c4b6-766840a916ce"
      },
      "source": [
        "my_g_tree_search = MyGridSearch( \n",
        "    estimator=tree_model,\n",
        "    param_grid=g_tree_parameters, \n",
        "    scoring='recall_macro',\n",
        "    cv=10\n",
        ")\n",
        "\n",
        "my_g_tree_search.fit(data, labels)\n",
        "print(\"MyGridSearch for tree_model\")\n",
        "print(\"Parameters: \", my_g_tree_search.best_params_)\n",
        "print(\"Best score: \", my_g_tree_search.best_score_)"
      ],
      "execution_count": 16,
      "outputs": [
        {
          "output_type": "stream",
          "name": "stdout",
          "text": [
            "MyGridSearch for tree_model\n",
            "Parameters:  {'max_depth': 3, 'max_leaf_nodes': 5, 'criterion': 'entropy'}\n",
            "Best score:  0.5780478955007258\n"
          ]
        }
      ]
    },
    {
      "cell_type": "markdown",
      "metadata": {
        "id": "hmmDhsSRkE59"
      },
      "source": [
        "Запуск **GridSearch** для _KNeighbors_"
      ]
    },
    {
      "cell_type": "code",
      "metadata": {
        "colab": {
          "base_uri": "https://localhost:8080/"
        },
        "id": "2_MTSAuTAcbR",
        "outputId": "c79148d5-482d-4b11-871e-ffffc3cb9b9a"
      },
      "source": [
        "my_g_neigh_search = MyGridSearch( \n",
        "    estimator=neighbors_model,\n",
        "    param_grid=g_neigh_parameters, \n",
        "    scoring='recall_macro',\n",
        "    cv=10\n",
        ")\n",
        "\n",
        "my_g_neigh_search.fit(data, labels)\n",
        "print(\"MyGridSearch for neighbors_model\")\n",
        "print(\"Parameters: \", my_g_neigh_search.best_params_)\n",
        "print(\"Best score: \", my_g_neigh_search.best_score_)"
      ],
      "execution_count": 17,
      "outputs": [
        {
          "output_type": "stream",
          "name": "stdout",
          "text": [
            "MyGridSearch for neighbors_model\n",
            "Parameters:  {'n_neighbors': 13, 'weights': 'uniform', 'p': 2}\n",
            "Best score:  0.6135522496371552\n"
          ]
        }
      ]
    },
    {
      "cell_type": "markdown",
      "metadata": {
        "id": "bu8AHyYykFK_"
      },
      "source": [
        "Запуск **RandomSearch** для _DesicionTree_"
      ]
    },
    {
      "cell_type": "code",
      "metadata": {
        "colab": {
          "base_uri": "https://localhost:8080/"
        },
        "id": "ZPyr9W1gaI1B",
        "outputId": "a9449f6f-4f66-45eb-a98b-cdfe02dec761"
      },
      "source": [
        "my_r_tree_search = MyRandomizedSearch(\n",
        "    estimator=tree_model,\n",
        "    param_distributions=r_tree_parameters,\n",
        "    scoring='recall_macro',\n",
        "    n_iter=5 \n",
        ")\n",
        "my_r_tree_search.fit(data, labels)\n",
        "print(\"MyRandomizedSearch for tree_model\")\n",
        "print(\"Parameters: \", my_r_tree_search.best_params_)\n",
        "print(\"Best score: \", my_r_tree_search.best_score_)"
      ],
      "execution_count": 18,
      "outputs": [
        {
          "output_type": "stream",
          "name": "stdout",
          "text": [
            "MyRandomizedSearch for tree_model\n",
            "Parameters:  {'max_depth': 4, 'max_leaf_nodes': 5, 'criterion': 'entropy'}\n",
            "Best score:  0.5742991913746631\n"
          ]
        }
      ]
    },
    {
      "cell_type": "markdown",
      "metadata": {
        "id": "AJ4yflLNkFpP"
      },
      "source": [
        "Запуск **GridSearch** для _KNeighbors_"
      ]
    },
    {
      "cell_type": "code",
      "metadata": {
        "colab": {
          "base_uri": "https://localhost:8080/"
        },
        "id": "UiiodAGMWGPF",
        "outputId": "4a1fefa6-7e25-42c3-dabf-2ac83e9e44c3"
      },
      "source": [
        "my_r_neigh_search = MyRandomizedSearch(\n",
        "    estimator=neighbors_model,\n",
        "    param_distributions=r_neigh_parameters,\n",
        "    scoring='recall_macro',\n",
        "    n_iter=5 \n",
        ")\n",
        "my_r_neigh_search.fit(data, labels)\n",
        "print(\"MyRandomizedSearch for tree_model\")\n",
        "print(\"Parameters: \", my_r_neigh_search.best_params_)\n",
        "print(\"Best score: \", my_r_neigh_search.best_score_)"
      ],
      "execution_count": 19,
      "outputs": [
        {
          "output_type": "stream",
          "name": "stdout",
          "text": [
            "MyRandomizedSearch for tree_model\n",
            "Parameters:  {'n_neighbors': 13, 'weights': 'uniform', 'p': 4}\n",
            "Best score:  0.6110826594788858\n"
          ]
        }
      ]
    },
    {
      "cell_type": "markdown",
      "metadata": {
        "id": "8paGtuKxl9m_"
      },
      "source": [
        "## Проверка результатов обучения"
      ]
    },
    {
      "cell_type": "markdown",
      "metadata": {
        "id": "JWp_nJcCnelQ"
      },
      "source": [
        "Результаты **GridSearch** для _DesicionTree_"
      ]
    },
    {
      "cell_type": "code",
      "metadata": {
        "colab": {
          "base_uri": "https://localhost:8080/",
          "height": 500
        },
        "id": "swl4uvJw4srf",
        "outputId": "06d1132b-cfeb-485e-862e-7ed3c325d55e"
      },
      "source": [
        "tree_model.set_params(**my_g_tree_search.best_params_)\n",
        "tree_model.fit(Xtrain, Ytrain)\n",
        "pred = tree_model.predict(Xtest)\n",
        "print(tree_model)\n",
        "print('Report for tree_model with MyGridSearch')\n",
        "print(classification_report(Ytest, pred))\n",
        "conf_mat = confusion_matrix(Ytest, pred)\n",
        "sns.heatmap(conf_mat, annot=True, fmt=\"d\")"
      ],
      "execution_count": 20,
      "outputs": [
        {
          "output_type": "stream",
          "name": "stdout",
          "text": [
            "DecisionTreeClassifier(criterion='entropy', max_depth=3, max_leaf_nodes=5)\n",
            "Report for tree_model with MyGridSearch\n",
            "              precision    recall  f1-score   support\n",
            "\n",
            "           0       0.67      0.75      0.71       152\n",
            "           1       0.45      0.46      0.46       166\n",
            "           2       0.46      0.26      0.33       152\n",
            "           3       0.66      0.82      0.73       165\n",
            "\n",
            "    accuracy                           0.58       635\n",
            "   macro avg       0.56      0.57      0.56       635\n",
            "weighted avg       0.56      0.58      0.56       635\n",
            "\n"
          ]
        },
        {
          "output_type": "execute_result",
          "data": {
            "text/plain": [
              "<matplotlib.axes._subplots.AxesSubplot at 0x7fd421734d50>"
            ]
          },
          "metadata": {},
          "execution_count": 20
        },
        {
          "output_type": "display_data",
          "data": {
            "image/png": "[encoded data removed]",
            "text/plain": [
              "<Figure size 432x288 with 2 Axes>"
            ]
          },
          "metadata": {
            "needs_background": "light"
          }
        }
      ]
    },
    {
      "cell_type": "markdown",
      "metadata": {
        "id": "FE-IF8SeoN01"
      },
      "source": [
        "Результаты **GridSearch** для _KNeihgbors_"
      ]
    },
    {
      "cell_type": "code",
      "metadata": {
        "colab": {
          "base_uri": "https://localhost:8080/",
          "height": 483
        },
        "id": "lUrjvhOKYbEX",
        "outputId": "6d98158c-c935-4968-a0cf-333fb04b8b5f"
      },
      "source": [
        "neighbors_model.set_params(**my_g_neigh_search.best_params_)\n",
        "neighbors_model.fit(Xtrain, Ytrain)\n",
        "pred = neighbors_model.predict(Xtest)\n",
        "print('Report for neighbors_model with MyGridSearch')\n",
        "print(classification_report(Ytest, pred))\n",
        "conf_mat = confusion_matrix(Ytest, pred)\n",
        "sns.heatmap(conf_mat, annot=True, fmt=\"d\")"
      ],
      "execution_count": 21,
      "outputs": [
        {
          "output_type": "stream",
          "name": "stdout",
          "text": [
            "Report for neighbors_model with MyGridSearch\n",
            "              precision    recall  f1-score   support\n",
            "\n",
            "           0       0.68      0.74      0.71       152\n",
            "           1       0.50      0.45      0.47       166\n",
            "           2       0.51      0.49      0.50       152\n",
            "           3       0.75      0.78      0.77       165\n",
            "\n",
            "    accuracy                           0.62       635\n",
            "   macro avg       0.61      0.62      0.61       635\n",
            "weighted avg       0.61      0.62      0.61       635\n",
            "\n"
          ]
        },
        {
          "output_type": "execute_result",
          "data": {
            "text/plain": [
              "<matplotlib.axes._subplots.AxesSubplot at 0x7fd4216cd450>"
            ]
          },
          "metadata": {},
          "execution_count": 21
        },
        {
          "output_type": "display_data",
          "data": {
            "image/png": "[encoded data removed]",
            "text/plain": [
              "<Figure size 432x288 with 2 Axes>"
            ]
          },
          "metadata": {
            "needs_background": "light"
          }
        }
      ]
    },
    {
      "cell_type": "markdown",
      "metadata": {
        "id": "whXrIYrYoOb5"
      },
      "source": [
        "Результаты **RandomSearch** для _DesicionTree_"
      ]
    },
    {
      "cell_type": "code",
      "metadata": {
        "colab": {
          "base_uri": "https://localhost:8080/",
          "height": 483
        },
        "id": "_sniA8idYbg2",
        "outputId": "a5d7bbb0-f997-4c11-ddd8-35f3419b52af"
      },
      "source": [
        "tree_model.set_params(**my_r_tree_search.best_params_)\n",
        "tree_model.fit(Xtrain, Ytrain)\n",
        "pred = tree_model.predict(Xtest)\n",
        "print('Report for tree_model with MyRandomizedSearch')\n",
        "print(classification_report(Ytest, pred))\n",
        "conf_mat = confusion_matrix(Ytest, pred)\n",
        "sns.heatmap(conf_mat, annot=True, fmt=\"d\")"
      ],
      "execution_count": 22,
      "outputs": [
        {
          "output_type": "stream",
          "name": "stdout",
          "text": [
            "Report for tree_model with MyRandomizedSearch\n",
            "              precision    recall  f1-score   support\n",
            "\n",
            "           0       0.67      0.75      0.71       152\n",
            "           1       0.45      0.46      0.46       166\n",
            "           2       0.46      0.26      0.33       152\n",
            "           3       0.66      0.82      0.73       165\n",
            "\n",
            "    accuracy                           0.58       635\n",
            "   macro avg       0.56      0.57      0.56       635\n",
            "weighted avg       0.56      0.58      0.56       635\n",
            "\n"
          ]
        },
        {
          "output_type": "execute_result",
          "data": {
            "text/plain": [
              "<matplotlib.axes._subplots.AxesSubplot at 0x7fd418dca1d0>"
            ]
          },
          "metadata": {},
          "execution_count": 22
        },
        {
          "output_type": "display_data",
          "data": {
            "image/png": "[encoded data removed]",
            "text/plain": [
              "<Figure size 432x288 with 2 Axes>"
            ]
          },
          "metadata": {
            "needs_background": "light"
          }
        }
      ]
    },
    {
      "cell_type": "markdown",
      "metadata": {
        "id": "lfqlnfd0oO4t"
      },
      "source": [
        "Результаты **RandomSearch** для _KNeihgbors_"
      ]
    },
    {
      "cell_type": "code",
      "metadata": {
        "colab": {
          "base_uri": "https://localhost:8080/",
          "height": 483
        },
        "id": "k3Q0puVpY6-I",
        "outputId": "3a70fbe7-b304-4ef4-af3a-7158fcb9ed44"
      },
      "source": [
        "neighbors_model.set_params(**my_r_neigh_search.best_params_)\n",
        "neighbors_model.fit(Xtrain, Ytrain)\n",
        "pred = neighbors_model.predict(Xtest)\n",
        "print('Report for neighbors_model with MyGridSearch')\n",
        "print(classification_report(Ytest, pred))\n",
        "conf_mat = confusion_matrix(Ytest, pred)\n",
        "sns.heatmap(conf_mat, annot=True, fmt=\"d\")"
      ],
      "execution_count": 23,
      "outputs": [
        {
          "output_type": "stream",
          "name": "stdout",
          "text": [
            "Report for neighbors_model with MyGridSearch\n",
            "              precision    recall  f1-score   support\n",
            "\n",
            "           0       0.67      0.73      0.70       152\n",
            "           1       0.50      0.47      0.49       166\n",
            "           2       0.51      0.48      0.49       152\n",
            "           3       0.75      0.78      0.77       165\n",
            "\n",
            "    accuracy                           0.62       635\n",
            "   macro avg       0.61      0.62      0.61       635\n",
            "weighted avg       0.61      0.62      0.61       635\n",
            "\n"
          ]
        },
        {
          "output_type": "execute_result",
          "data": {
            "text/plain": [
              "<matplotlib.axes._subplots.AxesSubplot at 0x7fd418d13fd0>"
            ]
          },
          "metadata": {},
          "execution_count": 23
        },
        {
          "output_type": "display_data",
          "data": {
            "image/png": "[encoded data removed]",
            "text/plain": [
              "<Figure size 432x288 with 2 Axes>"
            ]
          },
          "metadata": {
            "needs_background": "light"
          }
        }
      ]
    },
    {
      "cell_type": "markdown",
      "metadata": {
        "id": "mJ9ahRLRq47f"
      },
      "source": [
        "## Conclusion"
      ]
    },
    {
      "cell_type": "markdown",
      "metadata": {
        "id": "rdZpfJh-q9oS"
      },
      "source": [
        "Методы **GridSearch** и **RandomSearch** выполняют одну цель - ищут оптимальные гиперпараметры для моделей сетей, однако GridSearch рассматривает пространство по переданным координатам, а RandomSearch - по случайным координатам согласно диапазону.\n",
        "\n",
        "**GridSearch**.\n",
        "\n",
        " _Плюсы_: \n",
        "\n",
        "1.   Более высокая стабильность.\n",
        "\n",
        "_Минусы_:\n",
        "\n",
        "1.   Низкая производительность на больших сетках.\n",
        "2.   Поиск по сетке слишком завязан на координатах, которые ему подаются.\n",
        "\n",
        "**RandomSearch**.\n",
        "\n",
        "_Плюсы_:\n",
        "\n",
        "1.   Может попасть в точку пространства, которая ближе к оптимуму.\n",
        "2.   При одиннаковом пространстве параметров роизводительность выше, чем у GridSearch.\n",
        "\n",
        "_Минусы_:\n",
        "\n",
        "\n",
        "1.   При малом значении *n_iter* может пропустить оптимальный набор гиперпараметров."
      ]
    }
  ]
}